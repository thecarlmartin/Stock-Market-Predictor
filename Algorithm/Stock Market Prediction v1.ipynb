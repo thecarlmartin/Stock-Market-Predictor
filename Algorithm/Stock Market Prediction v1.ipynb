{
 "cells": [
  {
   "cell_type": "markdown",
   "metadata": {},
   "source": [
    "# Predicting Stock Markets\n",
    "\n",
    "## Setup"
   ]
  },
  {
   "cell_type": "code",
   "execution_count": 1,
   "metadata": {
    "collapsed": false,
    "scrolled": true
   },
   "outputs": [],
   "source": [
    "import pandas as pd\n",
    "import numpy as np\n",
    "import pandas_datareader.data as web\n",
    "from datetime import datetime\n",
    "from sqlalchemy import create_engine # database connection\n",
    "from IPython.display import display\n",
    "import requests\n",
    "\n",
    "%matplotlib inline"
   ]
  },
  {
   "cell_type": "markdown",
   "metadata": {},
   "source": [
    "## Database"
   ]
  },
  {
   "cell_type": "code",
   "execution_count": 2,
   "metadata": {
    "collapsed": false,
    "scrolled": true
   },
   "outputs": [],
   "source": [
    "class Database(object):\n",
    "    \n",
    "    def __init__(self):\n",
    "        \n",
    "        self.engine = create_engine('sqlite:///datalake.db')\n",
    "\n",
    "\n",
    "    def save(self, tablename, data, behavior='fail', index=False):\n",
    "        \n",
    "        '''behavior options:\n",
    "        fail: If table exists, do nothing.\n",
    "        replace: If table exists, drop it, recreate it, and insert data.\n",
    "        append: If table exists, insert data. Create if does not exist.'''\n",
    "        \n",
    "        data.to_sql(tablename, self.engine, if_exists=behavior, index=index)\n",
    "    \n",
    "    def search_ticker(self, query):\n",
    "        return pd.read_sql(\"SELECT security_name, ticker FROM 'Master Data' WHERE security_name LIKE '%{}%' OR ticker LIKE '%{}%'\".format(query, query), self.engine)\n",
    "    \n",
    "    def retrieve_prices(self, ticker):\n",
    "        ticker = ticker.upper()\n",
    "        prices = pd.read_sql(\"SELECT * from '{}'\".format(ticker), self.engine)\n",
    "        prices = prices.set_index('date')\n",
    "        return prices"
   ]
  },
  {
   "cell_type": "code",
   "execution_count": 3,
   "metadata": {
    "collapsed": false
   },
   "outputs": [],
   "source": [
    "database = Database()"
   ]
  },
  {
   "cell_type": "markdown",
   "metadata": {},
   "source": [
    "## Data Connections\n",
    "In the beginning I'm connecting with Yahoo using the Pandas DataReader for easy acces to stock data"
   ]
  },
  {
   "cell_type": "code",
   "execution_count": 4,
   "metadata": {
    "collapsed": false,
    "scrolled": true
   },
   "outputs": [],
   "source": [
    "start = datetime(2000,1,1)\n",
    "end = datetime(2016,10,1)\n",
    "\n",
    "stock = \"aapl\"\n",
    "stock_data = web.DataReader(stock, \"yahoo\", start, end)"
   ]
  },
  {
   "cell_type": "code",
   "execution_count": 5,
   "metadata": {
    "collapsed": false,
    "scrolled": true
   },
   "outputs": [
    {
     "data": {
      "text/plain": [
       "<matplotlib.axes._subplots.AxesSubplot at 0x1156ad198>"
      ]
     },
     "execution_count": 5,
     "metadata": {},
     "output_type": "execute_result"
    },
    {
     "data": {
      "image/png": "[encoded data removed]",
      "text/plain": [
       "<matplotlib.figure.Figure at 0x11561c048>"
      ]
     },
     "metadata": {},
     "output_type": "display_data"
    }
   ],
   "source": [
    "stock_data[\"Adj Close\"].plot()"
   ]
  },
  {
   "cell_type": "markdown",
   "metadata": {},
   "source": [
    "### Wikipedia"
   ]
  },
  {
   "cell_type": "code",
   "execution_count": 6,
   "metadata": {
    "collapsed": false
   },
   "outputs": [],
   "source": [
    "# Get Current S&P 500 Stocks\n",
    "r = requests.get('https://extraction.import.io/query/extractor/d7417831-edc5-4fd1-9b57-26606728d3a0?_apikey=c5d8f713017f49ea8b77160a194b731468328172572b117710aa880cbb30e999f638bcf59fe2160122c8ef8fccc7a56e1f0042111d2be5509a6478e40fae5506206ce53f1fa15da66bc2c35003806243&url=https%3A%2F%2Fen.wikipedia.org%2Fwiki%2FList_of_S%2526P_500_companies')\n",
    "sp500 = pd.DataFrame(r.json()['extractorData']['data'][0]['group'])\n",
    "sp500['Ticker Symbol'] = sp500['Ticker Symbol'].apply(lambda x: (x[0]['text']))"
   ]
  },
  {
   "cell_type": "markdown",
   "metadata": {},
   "source": [
    "### Intrino\n",
    "The data connection with Intrinio will be used in production, because they allow redistribution of certain datasets."
   ]
  },
  {
   "cell_type": "code",
   "execution_count": 7,
   "metadata": {
    "collapsed": false
   },
   "outputs": [],
   "source": [
    "import requests\n",
    "import json\n",
    "\n",
    "class Intrinio(object):\n",
    "    \n",
    "    def __init__(self):\n",
    "        \n",
    "        self.user = 'b8f16afb02891a7fc1085118fd64ad47'\n",
    "        self.password = '5ad4db89b891c478803e731c8b3ff2d0'\n",
    "    \n",
    "    def request(self, url, payload={}):\n",
    "        \n",
    "        r = requests.get(url, params=payload, auth=(self.user, self.password))\n",
    "    \n",
    "        if r.status_code == 200:\n",
    "\n",
    "            return json.loads(r.text)\n",
    "        \n",
    "        else:\n",
    "            raise RuntimeError('An error has occurred while requesting data. Status Code:{}'.format(r.status_code))\n",
    "    \n",
    "    def extract_data(self, response):\n",
    "        \n",
    "        return pd.DataFrame(response['data'])\n",
    "    \n",
    "    def multiple_pages(self, url, parameters={}):\n",
    "        response = self.request(url, parameters)\n",
    "        data = self.extract_data(response)\n",
    "\n",
    "        if response['total_pages'] > 1:\n",
    "            i = 2\n",
    "            \n",
    "            while i <= response['total_pages']:\n",
    "                \n",
    "                parameters['page_number'] = i\n",
    "                data = data.append(self.request(url, parameters)['data'], ignore_index=True)\n",
    "                i += 1\n",
    "        \n",
    "        return data\n",
    "\n",
    "    def request_new_prices(self, ticker):\n",
    "\n",
    "        response = self.request('https://api.intrinio.com/prices', {'identifier': ticker, 'sort_order':'asc'})\n",
    "        return self.extract_data(response).set_index('date')"
   ]
  },
  {
   "cell_type": "code",
   "execution_count": 8,
   "metadata": {
    "collapsed": true
   },
   "outputs": [],
   "source": [
    "intrinio = Intrinio()"
   ]
  },
  {
   "cell_type": "code",
   "execution_count": 9,
   "metadata": {
    "collapsed": false,
    "scrolled": false
   },
   "outputs": [],
   "source": [
    "# Refresh Master Data - Ticker and Company Name\n",
    "class MasterData(object):\n",
    "    \n",
    "    def __init__(self, data_provider, database, refresh=False):\n",
    "        \n",
    "        self.data_provider = data_provider\n",
    "        self.database = database\n",
    "        \n",
    "        if refresh == True:\n",
    "            master_data = self.data_provider.multiple_pages('https://api.intrinio.com/securities')\n",
    "            self.data = master_data\n",
    "            self.database.save('Master Data', master_data, 'replace')\n",
    "            print('Master Data was refreshed.')\n",
    "        else:\n",
    "            self.data = pd.read_sql(\"SELECT * FROM 'Master Data'\", self.database.engine)"
   ]
  },
  {
   "cell_type": "code",
   "execution_count": 10,
   "metadata": {
    "collapsed": false,
    "scrolled": true
   },
   "outputs": [],
   "source": [
    "master_data = MasterData(intrinio, database)"
   ]
  },
  {
   "cell_type": "code",
   "execution_count": 11,
   "metadata": {
    "collapsed": false
   },
   "outputs": [
    {
     "data": {
      "text/html": [
       "<div>\n",
       "<table border=\"1\" class=\"dataframe\">\n",
       "  <thead>\n",
       "    <tr style=\"text-align: right;\">\n",
       "      <th></th>\n",
       "      <th>delisted_security</th>\n",
       "      <th>etf</th>\n",
       "      <th>financial_status</th>\n",
       "      <th>last_crsp_adj_date</th>\n",
       "      <th>listing_exchange</th>\n",
       "      <th>market_category</th>\n",
       "      <th>primary_security</th>\n",
       "      <th>round_lot_size</th>\n",
       "      <th>security_class</th>\n",
       "      <th>security_name</th>\n",
       "      <th>security_type</th>\n",
       "      <th>stock_exchange</th>\n",
       "      <th>ticker</th>\n",
       "    </tr>\n",
       "  </thead>\n",
       "  <tbody>\n",
       "    <tr>\n",
       "      <th>0</th>\n",
       "      <td>0</td>\n",
       "      <td>0</td>\n",
       "      <td>N</td>\n",
       "      <td>2016-08-04</td>\n",
       "      <td>Nasdaq</td>\n",
       "      <td>Global Select Market</td>\n",
       "      <td>1</td>\n",
       "      <td>100</td>\n",
       "      <td>None</td>\n",
       "      <td>Apple Inc. - Common Stock</td>\n",
       "      <td>Common Stock</td>\n",
       "      <td>NasdaqGS</td>\n",
       "      <td>AAPL</td>\n",
       "    </tr>\n",
       "    <tr>\n",
       "      <th>1</th>\n",
       "      <td>0</td>\n",
       "      <td>0</td>\n",
       "      <td>None</td>\n",
       "      <td>2016-09-30</td>\n",
       "      <td>NYSE</td>\n",
       "      <td>None</td>\n",
       "      <td>1</td>\n",
       "      <td>100</td>\n",
       "      <td>None</td>\n",
       "      <td>Apple Hospitality REIT, Inc. Common Shares</td>\n",
       "      <td>Common Shares</td>\n",
       "      <td>NYSE</td>\n",
       "      <td>APLE</td>\n",
       "    </tr>\n",
       "    <tr>\n",
       "      <th>2</th>\n",
       "      <td>0</td>\n",
       "      <td>0</td>\n",
       "      <td>None</td>\n",
       "      <td>2016-09-09</td>\n",
       "      <td>NYSE</td>\n",
       "      <td>None</td>\n",
       "      <td>1</td>\n",
       "      <td>100</td>\n",
       "      <td>None</td>\n",
       "      <td>Dr Pepper Snapple Group, Inc Dr Pepper Snapple...</td>\n",
       "      <td>Common Stock</td>\n",
       "      <td>NYSE</td>\n",
       "      <td>DPS</td>\n",
       "    </tr>\n",
       "    <tr>\n",
       "      <th>3</th>\n",
       "      <td>0</td>\n",
       "      <td>0</td>\n",
       "      <td>None</td>\n",
       "      <td>2000-03-08</td>\n",
       "      <td>NYSE</td>\n",
       "      <td>None</td>\n",
       "      <td>1</td>\n",
       "      <td>100</td>\n",
       "      <td>None</td>\n",
       "      <td>Maui Land &amp; Pineapple Company, Inc. Common Stock</td>\n",
       "      <td>Common Stock</td>\n",
       "      <td>NYSE</td>\n",
       "      <td>MLP</td>\n",
       "    </tr>\n",
       "  </tbody>\n",
       "</table>\n",
       "</div>"
      ],
      "text/plain": [
       "   delisted_security  etf financial_status last_crsp_adj_date  \\\n",
       "0                  0    0                N         2016-08-04   \n",
       "1                  0    0             None         2016-09-30   \n",
       "2                  0    0             None         2016-09-09   \n",
       "3                  0    0             None         2000-03-08   \n",
       "\n",
       "  listing_exchange       market_category  primary_security  round_lot_size  \\\n",
       "0           Nasdaq  Global Select Market                 1             100   \n",
       "1             NYSE                  None                 1             100   \n",
       "2             NYSE                  None                 1             100   \n",
       "3             NYSE                  None                 1             100   \n",
       "\n",
       "  security_class                                      security_name  \\\n",
       "0           None                          Apple Inc. - Common Stock   \n",
       "1           None         Apple Hospitality REIT, Inc. Common Shares   \n",
       "2           None  Dr Pepper Snapple Group, Inc Dr Pepper Snapple...   \n",
       "3           None   Maui Land & Pineapple Company, Inc. Common Stock   \n",
       "\n",
       "   security_type stock_exchange ticker  \n",
       "0   Common Stock       NasdaqGS   AAPL  \n",
       "1  Common Shares           NYSE   APLE  \n",
       "2   Common Stock           NYSE    DPS  \n",
       "3   Common Stock           NYSE    MLP  "
      ]
     },
     "execution_count": 11,
     "metadata": {},
     "output_type": "execute_result"
    }
   ],
   "source": [
    "pd.read_sql(\"SELECT * FROM 'Master Data' WHERE security_name LIKE '%Apple%'\", database.engine)"
   ]
  },
  {
   "cell_type": "code",
   "execution_count": 12,
   "metadata": {
    "collapsed": false
   },
   "outputs": [],
   "source": [
    "class Stock(object):\n",
    "\n",
    "    def __init__(self, ticker, data_provider=intrinio, database=database):\n",
    "        \n",
    "        self.data_provider = data_provider\n",
    "        self.database = database\n",
    "        self.ticker = ticker.upper()\n",
    "        self.company_name = self.retrieve_company_name(ticker)\n",
    "        \n",
    "        try:\n",
    "            # TODO: Check for current date\n",
    "            self.prices()\n",
    "        except:\n",
    "            self.download_prices()\n",
    "            \n",
    "    def retrieve_company_name(self, ticker):\n",
    "        \n",
    "        try:\n",
    "            company_name = pd.read_sql(\"SELECT security_name FROM 'Master Data' WHERE ticker = '{}'\".format(ticker), self.database.engine).ix[0][0]\n",
    "            return company_name\n",
    "        \n",
    "        except:\n",
    "            raise ValueError('The ticker {} you entered is not valid.'.format(ticker))\n",
    "    \n",
    "    def compute_daily_ret(self, data):\n",
    "        data = data['adj_close']\n",
    "        daily_ret = data.copy()\n",
    "        daily_ret[1:] = (data[1:] / data[:-1].values) - 1\n",
    "        daily_ret.ix[0] = 0\n",
    "        return daily_ret\n",
    "    \n",
    "    def download_prices(self):\n",
    "        \n",
    "        prices = self.data_provider.request_new_prices(self.ticker)\n",
    "        \n",
    "        if len(prices) < 1:\n",
    "            raise RuntimeError('An error occurred, while downloading the prices.')\n",
    "        \n",
    "        prices['daily_ret'] = self.compute_daily_ret(prices)\n",
    "        self.database.save(self.ticker, prices, 'replace', 'date')\n",
    "        \n",
    "    def prices(self):\n",
    "        prices = self.database.retrieve_prices(self.ticker)\n",
    "        return prices"
   ]
  },
  {
   "cell_type": "markdown",
   "metadata": {},
   "source": [
    "## Feature Engineering"
   ]
  },
  {
   "cell_type": "code",
   "execution_count": 13,
   "metadata": {
    "collapsed": true
   },
   "outputs": [],
   "source": [
    "def train_test_split(X, y, test_size=0.2, target='daily_ret'):\n",
    "        index = int(len(X) * (1 - test_size))\n",
    "        return X[:index], X[index:], y[:index][target].values, y[index:][target].values"
   ]
  },
  {
   "cell_type": "markdown",
   "metadata": {},
   "source": [
    "According to \"Stock Market Prediction with multiple classifiers\" to parameters have to be chosen for the rolling window technique - d (number of input days) and t (separation). Since executing trades very frequently, I chose t to be equal to seven.\n",
    "\n",
    "\n",
    "I'm implementing the Feature Engineering steps as custom sklearn transformers to be able to use GridSearch and FeatureUnion for hyper-parameter tuning. Source: http://danielhnyk.cz/creating-your-own-estimator-scikit-learn/ and http://zacstewart.com/2014/08/05/pipelines-of-featureunions-of-pipelines.html"
   ]
  },
  {
   "cell_type": "code",
   "execution_count": 14,
   "metadata": {
    "collapsed": true
   },
   "outputs": [],
   "source": [
    "from sklearn.base import BaseEstimator, TransformerMixin\n",
    "from sklearn.pipeline import Pipeline, FeatureUnion"
   ]
  },
  {
   "cell_type": "code",
   "execution_count": 15,
   "metadata": {
    "collapsed": false
   },
   "outputs": [
    {
     "data": {
      "text/plain": [
       "array([0, 1, 2, 3, 4, 5])"
      ]
     },
     "execution_count": 15,
     "metadata": {},
     "output_type": "execute_result"
    }
   ],
   "source": [
    "np.arange(0, 6)"
   ]
  },
  {
   "cell_type": "code",
   "execution_count": 16,
   "metadata": {
    "collapsed": false
   },
   "outputs": [],
   "source": [
    "class Windowing(BaseEstimator, TransformerMixin):\n",
    "    '''\n",
    "    http://stockcharts.com/school/doku.php?st=roc&id=chart_school:technical_indicators:rate_of_change_roc_and_momentum\n",
    "    '''\n",
    "    def __init__(self, t=5, feature='daily_ret'):\n",
    "        \n",
    "        self.t = t\n",
    "        self.feature = feature\n",
    "    \n",
    "    def fit(self, X, y=None, **fit_params):\n",
    "        return self\n",
    "    \n",
    "    def transform(self, X):\n",
    "        X = X.copy()\n",
    "        columns = ['{}_{}'.format(self.feature, 0)]\n",
    "        X.loc[:,'{}_{}'.format(self.feature, 0)] = X[:][self.feature].values\n",
    "        for i in np.arange(1, self.t+1):\n",
    "            X.loc[i:,'{}_{}'.format(self.feature, i)] = X[:-i][self.feature].values\n",
    "            X.loc[:i,'{}_{}'.format(self.feature, i)] = 0\n",
    "            columns.append('{}_{}'.format(self.feature, i))\n",
    "        return X[columns]"
   ]
  },
  {
   "cell_type": "markdown",
   "metadata": {},
   "source": [
    "K compares where a security’s price closed relative to its price range over a given time period. D is the moving average of K, while slow D is the moving average of D."
   ]
  },
  {
   "cell_type": "code",
   "execution_count": 17,
   "metadata": {
    "collapsed": false
   },
   "outputs": [],
   "source": [
    "class K(BaseEstimator, TransformerMixin):\n",
    "    \n",
    "    def __init__(self, t1=14):\n",
    "        \n",
    "        self.t1 = t1\n",
    "    \n",
    "    def fit(self, X, y=None, **fit_params):\n",
    "        return self\n",
    "    \n",
    "    def transform(self, X):\n",
    "        X = X.copy()\n",
    "        rolling = X['adj_close'].rolling(window=self.t1)\n",
    "        X['K'] = (X['adj_close']-rolling.min())/(rolling.max()-rolling.min())*100\n",
    "        X['K'].loc[:self.t1 - 1] = 50 # Imputing missing values\n",
    "        return X[['K']]\n",
    "\n",
    "class D(BaseEstimator, TransformerMixin):\n",
    "    \n",
    "    def __init__(self, t2=3):\n",
    "        \n",
    "        self.t2 = t2\n",
    "    \n",
    "    def fit(self, X, y=None, **fit_params):\n",
    "        return self\n",
    "    \n",
    "    def transform(self, X):\n",
    "        X = X.copy()\n",
    "        rolling = X['K'].rolling(window=self.t2)\n",
    "        X['D'] = rolling.mean()\n",
    "        X['D'].loc[:self.t2-1] = 50\n",
    "        return X[['D']]\n",
    "    \n",
    "class Slow_D(BaseEstimator, TransformerMixin):\n",
    "    \n",
    "    def __init__(self, t3=3):\n",
    "        \n",
    "        self.t3 = t3\n",
    "    \n",
    "    def fit(self, X, y=None, **fit_params):\n",
    "        return self\n",
    "    \n",
    "    def transform(self, X):\n",
    "        X = X.copy()\n",
    "        rolling = X['D'].rolling(window=self.t3)\n",
    "        X['slow_D'] = rolling.mean()\n",
    "        X['slow_D'].loc[:self.t3-1] = 50\n",
    "        return X[['slow_D']]"
   ]
  },
  {
   "cell_type": "markdown",
   "metadata": {},
   "source": [
    "Momentum measures the amount that a security’s price has changed over a given time span. Price rate-of-change. It displays the diference between the current price and the price n days ago. Larry William’s R. It is a momentum indicator that measures overbought/oversold levels."
   ]
  },
  {
   "cell_type": "code",
   "execution_count": 18,
   "metadata": {
    "collapsed": true
   },
   "outputs": [],
   "source": [
    "class Momentum(BaseEstimator, TransformerMixin):\n",
    "    '''\n",
    "    http://stockcharts.com/school/doku.php?st=roc&id=chart_school:technical_indicators:rate_of_change_roc_and_momentum\n",
    "    '''\n",
    "    def __init__(self, t=12):\n",
    "        \n",
    "        self.t = t\n",
    "    \n",
    "    def fit(self, X, y=None, **fit_params):\n",
    "        return self\n",
    "    \n",
    "    def transform(self, X):\n",
    "        X = X.copy()\n",
    "        X['momentum_{}'.format(self.t)] = X['adj_close'][self.t:] - X['adj_close'][:-self.t].values\n",
    "        X['momentum_{}'.format(self.t)].loc[:self.t] = 0\n",
    "        return X[['momentum_{}'.format(self.t)]]\n",
    "\n",
    "class ROC(BaseEstimator, TransformerMixin):\n",
    "    '''\n",
    "    http://stockcharts.com/school/doku.php?st=roc&id=chart_school:technical_indicators:rate_of_change_roc_and_momentum\n",
    "    '''\n",
    "    def __init__(self, t=12):\n",
    "        \n",
    "        self.t = t\n",
    "    \n",
    "    def fit(self, X, y=None, **fit_params):\n",
    "        return self\n",
    "    \n",
    "    def transform(self, X):\n",
    "        X = X.copy()\n",
    "        X['ROC_{}'.format(self.t)] = (X['adj_close'][self.t:] / X['adj_close'][:-self.t].values) * 100\n",
    "        X['ROC_{}'.format(self.t)].loc[:self.t] = 0\n",
    "        return X[['ROC_{}'.format(self.t)]]\n",
    "\n",
    "class Williams_R(BaseEstimator, TransformerMixin):\n",
    "    '''\n",
    "    http://stockcharts.com/school/doku.php?id=chart_school:technical_indicators:williams_r\n",
    "    '''\n",
    "    def __init__(self, t=14):\n",
    "        \n",
    "        self.t = t\n",
    "    \n",
    "    def fit(self, X, y=None, **fit_params):\n",
    "        return self\n",
    "    \n",
    "    def transform(self, X):\n",
    "        X = X.copy()\n",
    "        rolling_low = X['adj_low'].rolling(window=self.t)\n",
    "        rolling_high = X['adj_high'].rolling(window=self.t)\n",
    "        X['williams_r'] = (rolling_high.max()-X['adj_close'])/(rolling_high.max()-rolling_low.min()) * 100\n",
    "        X['williams_r'].loc[:self.t-1] = 50\n",
    "        return X[['williams_r']]\n",
    "\n",
    "class ADL(BaseEstimator, TransformerMixin):\n",
    "    '''\n",
    "    http://stockcharts.com/school/doku.php?id=chart_school:technical_indicators:accumulation_distribution_line\n",
    "    '''\n",
    "    def __init__(self, t=2):\n",
    "        self.t = t\n",
    "    \n",
    "    def fit(self, X, y=None, **fit_params):\n",
    "        return self\n",
    "    \n",
    "    def transform(self, X):\n",
    "        X = X.copy()\n",
    "        \n",
    "        money_flow_multiplier = ((X['adj_close'] - X['adj_low']) - (X['adj_high'] - X['adj_close'])) / (X['adj_high'] - X['adj_low'])\n",
    "        money_flow_multiplier = money_flow_multiplier.fillna(1) # Whenever low and high are identical one is substituted to avioid na\n",
    "        money_flow_volume = money_flow_multiplier * X['adj_volume']\n",
    "        rolling = money_flow_volume.rolling(window=self.t)\n",
    "        X['ADL'] = rolling.sum()\n",
    "        X['ADL'].iloc[:self.t-1] = money_flow_volume.iloc[:self.t-1].cumsum()\n",
    "        return X[['ADL']]"
   ]
  },
  {
   "cell_type": "markdown",
   "metadata": {},
   "source": [
    "Disparity is a momentum indicator that captures distance of current price and the moving average of t days."
   ]
  },
  {
   "cell_type": "code",
   "execution_count": 19,
   "metadata": {
    "collapsed": false
   },
   "outputs": [],
   "source": [
    "class Disparity(BaseEstimator, TransformerMixin):\n",
    "    '''\n",
    "    http://www.investopedia.com/ask/answers/121214/why-disparity-index-important-traders-and-analysts.asp\n",
    "    '''\n",
    "    def __init__(self, t=5):\n",
    "        self.t = t\n",
    "    \n",
    "    def fit(self, X, y=None, **fit_params):\n",
    "        return self\n",
    "    \n",
    "    def transform(self, X):\n",
    "        X = X.copy()\n",
    "        rolling = X['adj_close'].rolling(window=self.t)\n",
    "        X['disparity_{}'.format(self.t)] = X['adj_close'] / rolling.mean() * 100\n",
    "        X['disparity_{}'.format(self.t)].loc[:self.t-1]=100\n",
    "        return X[['disparity_{}'.format(self.t)]]\n",
    "\n",
    "class PPO(BaseEstimator, TransformerMixin):\n",
    "    '''\n",
    "    http://stockcharts.com/school/doku.php?id=chart_school:technical_indicators:price_oscillators_ppo\n",
    "    '''\n",
    "    def __init__(self):\n",
    "        pass\n",
    "    \n",
    "    def fit(self, X, y=None, **fit_params):\n",
    "        return self\n",
    "    \n",
    "    def transform(self, X):\n",
    "        X = X.copy()\n",
    "        EMA_12 = X['adj_close'].ewm(com=12)\n",
    "        EMA_26 = X['adj_close'].ewm(com=26)\n",
    "        X['PPO'] = ((EMA_12.mean() - EMA_26.mean())/EMA_26.mean()) * 100\n",
    "        return X[['PPO']]\n",
    "\n",
    "class CCI(BaseEstimator, TransformerMixin):\n",
    "    '''\n",
    "    http://stockcharts.com/school/doku.php?id=chart_school:technical_indicators:commodity_channel_index_cci\n",
    "    '''\n",
    "    def __init__(self, t=20):\n",
    "        self.t = t\n",
    "    \n",
    "    def fit(self, X, y=None, **fit_params):\n",
    "        return self\n",
    "    \n",
    "    def transform(self, X):\n",
    "        typical_price = (X['adj_high'] + X ['adj_low'] + X['adj_close'])/3\n",
    "        rolling_tp = typical_price.rolling(window=self.t)\n",
    "        mad = lambda x: np.fabs(x - x.mean()).mean()\n",
    "\n",
    "        X['CCI'] = (typical_price - rolling_tp.mean())/(0.015* rolling_tp.apply(mad))\n",
    "        X['CCI'].loc[:self.t-1] = 0\n",
    "        return X[['CCI']]\n",
    "\n",
    "class RSI(BaseEstimator, TransformerMixin):\n",
    "    '''\n",
    "    http://stockcharts.com/school/doku.php?id=chart_school:technical_indicators:commodity_channel_index_cci\n",
    "    '''\n",
    "    def __init__(self, t=14):\n",
    "        self.t = t\n",
    "    \n",
    "    def fit(self, X, y=None, **fit_params):\n",
    "        return self\n",
    "    \n",
    "    def transform(self, X):\n",
    "        delta = Momentum(1).transform(X)['momentum_1']\n",
    "        dUp, dDown = delta.copy(), delta.copy()\n",
    "        dUp[dUp < 0] = 0\n",
    "        dDown[dDown > 0] = 0\n",
    "\n",
    "        RolUp = dUp.rolling(window=self.t).mean()\n",
    "        RolDown = dDown.rolling(window=self.t).mean().abs()\n",
    "\n",
    "        RS = RolUp / RolDown\n",
    "        X['RSI'] = 100 - 100/(1+RS)\n",
    "        X['RSI'].loc[:self.t-1] = 50\n",
    "        return X[['RSI']]"
   ]
  },
  {
   "cell_type": "code",
   "execution_count": 20,
   "metadata": {
    "collapsed": true
   },
   "outputs": [],
   "source": [
    "class ColumnExtractor(BaseEstimator, TransformerMixin):\n",
    "    def __init__(self, columns=[]):\n",
    "        self.columns = columns\n",
    "    \n",
    "    def fit(self, X, y=None, **fit_params):\n",
    "        return self\n",
    "    \n",
    "    def transform(self, X):\n",
    "        return X[self.columns]\n",
    "\n",
    "class Scaling(BaseEstimator, TransformerMixin):\n",
    "    def __init__(self, columns=[]):\n",
    "        self.columns = columns\n",
    "    \n",
    "    def fit(self, X, y=None, **fit_params):\n",
    "        return self\n",
    "    \n",
    "    def transform(self, X):\n",
    "        X = X.copy()\n",
    "        for column in self.columns:\n",
    "            X[column] = np.log(X[column])\n",
    "        return X\n",
    "\n",
    "class ModelTransformer(BaseEstimator, TransformerMixin):\n",
    "\n",
    "    def __init__(self, model):\n",
    "        self.model = model\n",
    "\n",
    "    def fit(self, *args, **kwargs):\n",
    "        self.model.fit(*args, **kwargs)\n",
    "        return self\n",
    "\n",
    "    def transform(self, X, **transform_params):\n",
    "        return pd.DataFrame(self.model.predict(X))"
   ]
  },
  {
   "cell_type": "markdown",
   "metadata": {},
   "source": [
    "### Data Preparation"
   ]
  },
  {
   "cell_type": "code",
   "execution_count": 235,
   "metadata": {
    "collapsed": true
   },
   "outputs": [],
   "source": [
    "ticker_sector = {'A': 4, 'AA': 7, 'AAL': 5, 'AAP': 0, 'AAPL': 6, 'ABBV': 4, 'ABC': 4, 'ABT': 4, 'ACN': 6, 'ADBE': 6, \n",
    "'ADI': 6, 'ADM': 1, 'ADP': 6, 'ADS': 6, 'ADSK': 6, 'AEE': 9, 'AEP': 9, 'AES': 9, 'AET': 4, 'AFL': 3, \n",
    "'AGN': 4, 'AIG': 3, 'AIV': 3, 'AIZ': 3, 'AJG': 3, 'AKAM': 6, 'ALK': 5, 'ALL': 3, 'ALLE': 5, 'ALXN': 4,\n",
    "'AMAT': 6, 'AME': 5, 'AMG': 3, 'AMGN': 4, 'AMP': 3, 'AMT': 3, 'AMZN': 0, 'AN': 0, 'ANTM': 4, 'AON': 3,\n",
    "'APA': 2, 'APC': 2, 'APD': 7, 'APH': 5, 'ATVI': 6, 'AVB': 3, 'AVGO': 6, 'AVY': 7, 'AWK': 9, 'AXP': 3,\n",
    "'AYI': 5, 'AZO': 0, 'BA': 5, 'BAC': 3, 'BAX': 4, 'BBBY': 0, 'BBT': 3, 'BBY': 0, 'BCR': 4, 'BDX': 4,\n",
    "'BEN': 3, 'BF-B': 1, 'BHI': 2, 'BIIB': 4, 'BK': 3, 'BLK': 3, 'BLL': 7, 'BMY': 4, 'BRK-B': 3, 'BSX': 4,\n",
    "'BWA': 0, 'BXP': 3, 'C': 3, 'CA': 6, 'CAG': 1, 'CAH': 4, 'CAT': 5, 'CB': 3, 'CBG': 3, 'CBS': 0, \n",
    "'CCI': 3, 'CCL': 0, 'CELG': 4, 'CERN': 4, 'CF': 7, 'CFG': 3, 'CHD': 1, 'CHK': 2, 'CHRW': 5, 'CI': 4,\n",
    "'CINF': 3, 'CL': 1, 'CLX': 1, 'CMA': 3, 'CMCSA': 0, 'CME': 3, 'CMG': 0, 'CMI': 5, 'CMS': 9, 'CNC': 4,\n",
    "'CNP': 9, 'COF': 3, 'COG': 2, 'COH': 0, 'COL': 5, 'COP': 2, 'COST': 1, 'CPB': 1, 'CRM': 6,\n",
    "'CSCO': 6, 'CSRA': 6, 'CSX': 5, 'CTAS': 5, 'CTL': 8, 'CTSH': 6, 'CTXS': 6, 'CVS': 1, 'CVX': 2, \n",
    "'CXO': 2, 'D': 9, 'DAL': 5, 'DD': 7, 'DE': 5, 'DFS': 3, 'DG': 0, 'DGX': 4, 'DHI': 0, 'DHR': 5, \n",
    "'DIS': 0, 'DISCA': 0, 'DISCK': 0, 'DLPH': 0, 'DLR': 3, 'DLTR': 0, 'DNB': 5, 'DO': 2, 'DOV': 5, \n",
    "'DOW': 7, 'DPS': 1, 'DRI': 0, 'DTE': 9, 'DUK': 9, 'DVA': 4, 'DVN': 2, 'EA': 6, 'EBAY': 6, 'ECL': 7,\n",
    "'ED': 9, 'EFX': 3, 'EIX': 9, 'EL': 1, 'EMC': 6, 'EMN': 7, 'EMR': 5, 'ENDP': 4, 'EOG': 2, 'EQIX': 6,\n",
    "'EQR': 3, 'EQT': 2, 'ES': 9, 'ESRX': 4, 'ESS': 3, 'ETFC': 3, 'ETN': 5, 'ETR': 9, 'EW': 4, 'EXC': 9,\n",
    "'EXPD': 5, 'EXPE': 0, 'EXR': 3, 'F': 0, 'FAST': 5, 'FB': 6, 'FBHS': 5, 'FCX': 7, 'FDX': 5, 'FE': 9, \n",
    "'FFIV': 6, 'FIS': 6, 'FISV': 6, 'FITB': 3, 'FL': 0, 'FLIR': 5, 'FLR': 5, 'FLS': 5, 'FMC': 7, \n",
    "'FOX': 0, 'FOXA': 0, 'FRT': 3, 'FSLR': 6, 'FTI': 2, 'FTR': 8, 'GD': 5, 'GE': 5, 'GGP': 3,\n",
    "'GILD': 4, 'GIS': 1, 'GLW': 5, 'GM': 0, 'GOOG': 6, 'GOOGL': 6, 'GPC': 0, 'GPN': 6, 'GPS': 0, \n",
    "'GRMN': 0, 'GS': 3, 'GT': 0, 'GWW': 5, 'HAL': 2, 'HAR': 0, 'HAS': 0, 'HBAN': 3, 'HBI': 0, 'HCA': 4,\n",
    "'HCN': 3, 'HCP': 3, 'HD': 0, 'HES': 2, 'HIG': 3, 'HOG': 0, 'HOLX': 4, 'HON': 5, 'HOT': 0, 'HP': 2,\n",
    "'HPE': 6, 'HPQ': 6, 'HRB': 3, 'HRL': 1, 'HRS': 6, 'HSIC': 4, 'HST': 3, 'HSY': 1, 'HUM': 4, 'IBM': 6,\n",
    "'ICE': 3, 'IFF': 7, 'ILMN': 4, 'INTC': 6, 'INTU': 6, 'IP': 7, 'IPG': 0, 'IR': 5, 'IRM': 5, \n",
    "'ISRG': 4, 'ITW': 5, 'IVZ': 3, 'JBHT': 5, 'JCI': 0, 'JEC': 5, 'JNJ': 4, 'JNPR': 6, 'JPM': 3, \n",
    "'JWN': 0, 'K': 1, 'KEY': 3, 'KHC': 1, 'KIM': 3, 'KLAC': 6, 'KMB': 1, 'KMI': 2, 'KMX': 0, 'KO': 1,\n",
    "'KORS': 0, 'KR': 1, 'KSS': 0, 'KSU': 5, 'L': 3, 'LB': 0, 'LEG': 5, 'LEN': 0, 'LH': 4, 'LKQ': 0, \n",
    "'LLL': 5, 'LLTC': 6, 'LLY': 4, 'LM': 3, 'LMT': 5, 'LNC': 3, 'LOW': 0, 'LRCX': 6, 'LUK': 3, 'LUV': 5,\n",
    "'LVLT': 8, 'LYB': 7, 'M': 0, 'MA': 6, 'MAC': 3, 'MAR': 0, 'MAS': 5, 'MAT': 0, 'MCD': 0, 'MCHP': 6, \n",
    "'MCK': 4, 'MCO': 3, 'MDLZ': 1, 'MDT': 4, 'MET': 3, 'MHK': 0, 'MJN': 1, 'MKC': 1, 'MLM': 7, 'MMC': 3, \n",
    "'MMM': 5, 'MNK': 4, 'MNST': 1, 'MO': 1, 'MON': 7, 'MOS': 7, 'MPC': 2, 'MRK': 4, 'MRO': 2, 'MS': 3, \n",
    "'MSFT': 6, 'MSI': 6, 'MTB': 3, 'MU': 6, 'MUR': 2, 'MYL': 4, 'NAVI': 3, 'NBL': 2, 'NDAQ': 3,\n",
    "'NEM': 7, 'NFLX': 6, 'NFX': 2, 'NI': 9, 'NKE': 0, 'NLSN': 5, 'NOC': 5, 'NOV': 2, 'NRG': 9, 'NSC': 5, \n",
    "'NTAP': 6, 'NTRS': 3, 'NUE': 7, 'NVDA': 6, 'NWL': 0, 'NWS': 0, 'NWSA': 0, 'O': 3, 'OI': 7, 'OKE': 2, \n",
    "'OMC': 0, 'ORCL': 6, 'ORLY': 0, 'OXY': 2, 'PAYX': 6, 'PBCT': 3, 'PBI': 5, 'PCAR': 5, 'PCG': 9, 'PCLN': 0, \n",
    "'PDCO': 4, 'PEG': 9, 'PEP': 1, 'PFE': 4, 'PFG': 3, 'PG': 1, 'PGR': 3, 'PH': 5, \n",
    "'PHM': 0, 'PKI': 4, 'PLD': 3, 'PM': 1, 'PNC': 3, 'PNR': 5, 'PNW': 9, 'PPG': 7, \n",
    "'PPL': 9, 'PRGO': 4, 'PRU': 3, 'PSA': 3, 'PSX': 2, 'PVH': 0, 'PWR': 5, 'PX': 7, 'PXD': 2, \n",
    "'PYPL': 6, 'QCOM': 6, 'QRVO': 6, 'R': 5, 'RAI': 1, 'RCL': 0, 'REGN': 4, 'RF': 3, 'RHI': 5, 'RHT': 6, \n",
    "'RIG': 2, 'RL': 0, 'ROK': 5, 'ROP': 5, 'ROST': 0, 'RRC': 2, 'RSG': 5, 'RTN': 5, 'SBUX': 0, 'SCG': 9,\n",
    "'SCHW': 3, 'SE': 2, 'SEE': 7, 'SHW': 7, 'SIG': 0, 'SJM': 1, 'SLB': 2, 'SLG': 3, 'SNA': 0, 'SNI': 0,\n",
    "'SO': 9, 'SPG': 3, 'SPGI': 3, 'SPLS': 0, 'SRCL': 5, 'SRE': 9, 'STI': 3, 'STJ': 4, 'STT': 3, 'STX': 6,\n",
    "'STZ': 1, 'SWK': 0, 'SWKS': 6, 'SWN': 2, 'SYF': 3, 'SYK': 4, 'SYMC': 6, 'SYY': 1, 'T': 8, 'TAP': 1,\n",
    "'TDC': 6, 'TDG': 5, 'TEL': 6, 'TGNA': 0, 'TGT': 0, 'TIF': 0, 'TJX': 0, 'TMK': 3, 'TMO': 4,\n",
    "'TRIP': 0, 'TROW': 3, 'TRV': 3, 'TSCO': 0, 'TSN': 1, 'TSO': 2, 'TSS': 6, 'TWX': 0, 'TXN': 6, 'TXT': 5,\n",
    "'TYC': 5, 'UA': 0, 'UAL': 5, 'UDR': 3, 'UHS': 4, 'ULTA': 0, 'UNH': 4, 'UNM': 3, 'UNP': 5, 'UPS': 5,\n",
    "'URBN': 0, 'URI': 5, 'USB': 3, 'UTX': 5, 'V': 6, 'VAR': 4, 'VFC': 0, 'VIAB': 0, 'VLO': 2, 'VMC': 7, \n",
    "'VNO': 3, 'VRSK': 5, 'VRSN': 6, 'VRTX': 4, 'VTR': 3, 'VZ': 8, 'WAT': 4, 'WBA': 1, 'WDC': 6, 'WEC': 9,\n",
    "'WFC': 3, 'WFM': 1, 'WHR': 0, 'WM': 5, 'WMB': 2, 'WMT': 1, 'WRK': 7, 'WU': 6, 'WY': 3, \n",
    "'WYN': 0, 'WYNN': 0, 'XEC': 2, 'XEL': 9, 'XL': 3, 'XLNX': 6, 'XOM': 2, 'XRAY': 4, 'XRX': 6, 'XYL': 5,\n",
    " 'YHOO': 6, 'YUM': 0, 'ZBH': 4, 'ZION': 3, 'ZTS': 4}"
   ]
  },
  {
   "cell_type": "code",
   "execution_count": 285,
   "metadata": {
    "collapsed": false
   },
   "outputs": [],
   "source": [
    "import pandas_datareader.data as web\n",
    "\n",
    "start = pd.Timestamp(\"2015-12-10\")\n",
    "end = pd.Timestamp(\"2016-01-01\")\n",
    "pricing = web.DataReader(list(ticker_sector.keys()), \"yahoo\", start, end)"
   ]
  },
  {
   "cell_type": "code",
   "execution_count": 288,
   "metadata": {
    "collapsed": false
   },
   "outputs": [
    {
     "data": {
      "text/plain": [
       "<class 'pandas.core.panel.Panel'>\n",
       "Dimensions: 499 (items) x 15 (major_axis) x 6 (minor_axis)\n",
       "Items axis: A to ZTS\n",
       "Major_axis axis: 2015-12-10 00:00:00 to 2015-12-31 00:00:00\n",
       "Minor_axis axis: Open to Adj Close"
      ]
     },
     "execution_count": 288,
     "metadata": {},
     "output_type": "execute_result"
    }
   ],
   "source": [
    "pricing"
   ]
  },
  {
   "cell_type": "code",
   "execution_count": 287,
   "metadata": {
    "collapsed": true
   },
   "outputs": [],
   "source": [
    "pricing = pricing.transpose(2,1,0)"
   ]
  },
  {
   "cell_type": "code",
   "execution_count": 268,
   "metadata": {
    "collapsed": true
   },
   "outputs": [],
   "source": [
    "n_fwd_days=1"
   ]
  },
  {
   "cell_type": "code",
   "execution_count": 284,
   "metadata": {
    "collapsed": false
   },
   "outputs": [],
   "source": [
    "# Calculating daily Returns\n",
    "returns = pricing.loc[:,:,'Adj Close'].pct_change()\n",
    "\n",
    "# Automatically exclude all stocks, where we have inconsistent data\n",
    "returns = returns.dropna(how='all', axis=0)\n",
    "returns = returns.dropna(how='any', axis=1)\n",
    "\n",
    "# Massage the DataFrame into shape\n",
    "returns = returns.stack()\n",
    "returns.index = returns.index.set_names(['date', 'asset'])\n",
    "\n",
    "# Get the trading days in the dataset\n",
    "trading_days = list(sorted(set([x[0] for x in returns.index.unique()])))\n",
    "\n",
    "# Create a Returns DataFrame\n",
    "Returns = pd.DataFrame(returns, columns=[1])\n",
    "Returns = Returns.loc[slice(trading_days[0], trading_days[-1])]\n",
    "Returns = Returns.dropna(axis=0)\n",
    "\n",
    "# Shift the daily returns data for to benchmark requirements\n",
    "y = Returns.loc[slice(trading_days[n_fwd_days], trading_days[-1])].values\n",
    "\n",
    "X = Returns.loc[slice(trading_days[0], trading_days[-1-n_fwd_days])].copy()\n",
    "X.loc[slice(trading_days[1], trading_days[-1-n_fwd_days]),2] = Returns.loc[slice(trading_days[0], trading_days[-2-n_fwd_days])].values\n",
    "X.loc[slice(trading_days[2], trading_days[-1-n_fwd_days]),3] = Returns.loc[slice(trading_days[0], trading_days[-3-n_fwd_days])].values\n",
    "X.loc[slice(trading_days[3], trading_days[-1-n_fwd_days]),4] = Returns.loc[slice(trading_days[0], trading_days[-4-n_fwd_days])].values"
   ]
  },
  {
   "cell_type": "code",
   "execution_count": 281,
   "metadata": {
    "collapsed": false
   },
   "outputs": [],
   "source": []
  },
  {
   "cell_type": "code",
   "execution_count": null,
   "metadata": {
    "collapsed": false
   },
   "outputs": [],
   "source": [
    "X = stock.prices()[['adj_low', 'adj_high', 'adj_close','adj_volume', 'daily_ret']]\n",
    "\n",
    "# Time delay between X and y\n",
    "time_delay = 1\n",
    "\n",
    "# Calculate the price difference between current price and price seven days prior\n",
    "target_transformation = Momentum(time_delay) #\n",
    "y = target_transformation.transform(X)\n",
    "y.columns = ['target']\n",
    "y['target'] = y['target'].apply(lambda x: 1 if x > 0 else -1)\n",
    "\n",
    "# Training, testing split\n",
    "X_train, X_test, y_train, y_test = train_test_split(X[:-time_delay], y[time_delay:], target='target')"
   ]
  },
  {
   "cell_type": "markdown",
   "metadata": {},
   "source": [
    "### Data Exploration"
   ]
  },
  {
   "cell_type": "code",
   "execution_count": null,
   "metadata": {
    "collapsed": false
   },
   "outputs": [],
   "source": [
    "pd.DataFrame(y_train)[0].hist()"
   ]
  },
  {
   "cell_type": "code",
   "execution_count": null,
   "metadata": {
    "collapsed": true
   },
   "outputs": [],
   "source": [
    "from sklearn.decomposition import PCA\n",
    "\n",
    "# Classification\n",
    "pipeline = Pipeline([\n",
    "        ('features', FeatureUnion([\n",
    "            ('K', Pipeline([\n",
    "                ('transformer', K()),\n",
    "                ('scale', Scaling())\n",
    "            ])),\n",
    "            ('Momentum', Pipeline([\n",
    "                ('transformer', Momentum()),\n",
    "                ('scale', Scaling())\n",
    "            ])),\n",
    "            ('ROC', Pipeline([\n",
    "                ('transformer', ROC()),\n",
    "                ('scale', Scaling())\n",
    "            ])),\n",
    "            ('williams_r', Pipeline([\n",
    "                ('transformer', Williams_R()),\n",
    "                ('scale', Scaling())\n",
    "            ])),\n",
    "            ('ADL', Pipeline([\n",
    "                ('transformer', ADL()),\n",
    "                ('scale', Scaling())\n",
    "            ])),\n",
    "            ('Disparity', Pipeline([\n",
    "                ('transformer', Disparity(5)),\n",
    "                ('scale', Scaling())\n",
    "            ])),\n",
    "            ('PPO', Pipeline([\n",
    "                ('transformer', PPO()),\n",
    "                ('scale', Scaling())\n",
    "            ])),\n",
    "            ('CCI', Pipeline([\n",
    "                ('transformer', CCI()),\n",
    "                ('scale', Scaling())\n",
    "            ])),\n",
    "            ('RSI', Pipeline([\n",
    "                ('transformer', RSI()),\n",
    "                ('scale', Scaling())\n",
    "            ]))\n",
    "        ]))\n",
    "    ])"
   ]
  },
  {
   "cell_type": "code",
   "execution_count": null,
   "metadata": {
    "collapsed": false,
    "scrolled": true
   },
   "outputs": [],
   "source": [
    "from pandas.tools.plotting import scatter_matrix\n",
    "\n",
    "features = ['K', 'Momentum', 'ROC', 'Williams R', 'ADL', 'Disparity', 'PPO', 'CCI', 'RSI']\n",
    "X_transformed = pd.DataFrame(pipeline.fit_transform(X_train), columns=features)\n",
    "X_transformed['target'] = y_train\n",
    "\n",
    "color_wheel = {1: \"#ffff00\", \n",
    "               3: \"#429300\"}\n",
    "\n",
    "colors = X_transformed[\"target\"].map(lambda x: color_wheel.get(x + 2))\n",
    "scatter_matrix(X_transformed[features], color=colors, alpha=0.2, figsize=(12,12), diagonal='kde', c=None)"
   ]
  },
  {
   "cell_type": "code",
   "execution_count": null,
   "metadata": {
    "collapsed": false
   },
   "outputs": [],
   "source": [
    "pca = PCA(2)\n",
    "result = pd.DataFrame(pca.fit_transform(X_transformed[['PPO', 'CCI', 'RSI']]))\n",
    "print(\"Explained Variance: {}\".format(pca.components_))\n",
    "\n",
    "result['label'] = y_train\n",
    "ax = result[result['label'] == 1].plot(kind='scatter', x=0, y=1, color='DarkGreen', label='Up', alpha=0.2)\n",
    "result[result['label'] == -1].plot(kind='scatter', x=0, y=1, color='Yellow', label='Down', ax=ax, alpha=0.6)"
   ]
  },
  {
   "cell_type": "markdown",
   "metadata": {},
   "source": [
    "## Baseline Classifier\n",
    "This predictor serves as a benchmark to compare other algorithms against. New algorithms have to perform better than this predictor."
   ]
  },
  {
   "cell_type": "code",
   "execution_count": null,
   "metadata": {
    "collapsed": false
   },
   "outputs": [],
   "source": [
    "from sklearn.model_selection import GridSearchCV, RandomizedSearchCV\n",
    "from sklearn import preprocessing\n",
    "from sklearn.svm import SVC\n",
    "from sklearn.linear_model import SGDClassifier\n",
    "from sklearn.neighbors import KNeighborsClassifier\n",
    "\n",
    "# Classification\n",
    "pipeline = Pipeline([\n",
    "        ('features', FeatureUnion([\n",
    "            ('daily_ret', Pipeline([\n",
    "                ('windowing', Windowing(t=4, feature='daily_ret')),\n",
    "                ('scale', preprocessing.RobustScaler())\n",
    "            ]))\n",
    "        ])),\n",
    "        ('estimator', KNeighborsClassifier())\n",
    "    ])"
   ]
  },
  {
   "cell_type": "code",
   "execution_count": null,
   "metadata": {
    "collapsed": false,
    "scrolled": true
   },
   "outputs": [],
   "source": [
    "params = {\n",
    "    'estimator__n_neighbors': np.arange(1,10),\n",
    "    'features__daily_ret__windowing__t': np.arange(4,20,2)\n",
    "}\n",
    "\n",
    "# grid_search = RandomizedSearchCV(pipeline, param_distributions=params, n_jobs=8, n_iter=16)\n",
    "grid_search = GridSearchCV(pipeline, param_grid=params, n_jobs=12)\n",
    "grid_search.fit(X_train, y_train)"
   ]
  },
  {
   "cell_type": "code",
   "execution_count": null,
   "metadata": {
    "collapsed": false
   },
   "outputs": [],
   "source": [
    "print(grid_search.best_score_)\n",
    "display(grid_search.best_params_)\n",
    "class_names = ['Down','Up']\n",
    "classifier = grid_search.best_estimator_\n",
    "y_pred = classifier.predict(X_test)"
   ]
  },
  {
   "cell_type": "code",
   "execution_count": null,
   "metadata": {
    "collapsed": false
   },
   "outputs": [],
   "source": [
    "import itertools\n",
    "import matplotlib.pyplot as plt\n",
    "from sklearn.metrics import confusion_matrix\n",
    "\n",
    "def plot_confusion_matrix(cm, classes,\n",
    "                          normalize=False,\n",
    "                          title='Confusion matrix',\n",
    "                          cmap=plt.cm.Blues):\n",
    "    \"\"\"\n",
    "    This function prints and plots the confusion matrix.\n",
    "    Normalization can be applied by setting `normalize=True`.\n",
    "    \"\"\"\n",
    "    plt.imshow(cm, interpolation='nearest', cmap=cmap)\n",
    "    plt.title(title)\n",
    "    plt.colorbar()\n",
    "    tick_marks = np.arange(len(classes))\n",
    "    plt.xticks(tick_marks, classes, rotation=45)\n",
    "    plt.yticks(tick_marks, classes)\n",
    "\n",
    "    if normalize:\n",
    "        cm = cm.astype('float') / cm.sum(axis=1)[:, np.newaxis]\n",
    "        print(\"Normalized confusion matrix\")\n",
    "    else:\n",
    "        print('Confusion matrix, without normalization')\n",
    "\n",
    "    print(cm)\n",
    "\n",
    "    thresh = cm.max() / 2.\n",
    "    for i, j in itertools.product(range(cm.shape[0]), range(cm.shape[1])):\n",
    "        plt.text(j, i, cm[i, j],\n",
    "                 horizontalalignment=\"center\",\n",
    "                 color=\"white\" if cm[i, j] > thresh else \"black\")\n",
    "\n",
    "    plt.tight_layout()\n",
    "    plt.ylabel('True label')\n",
    "    plt.xlabel('Predicted label')\n",
    "\n",
    "# Compute confusion matrix\n",
    "cnf_matrix = confusion_matrix(y_test, y_pred)\n",
    "np.set_printoptions(precision=2)\n",
    "\n",
    "# Plot non-normalized confusion matrix\n",
    "plt.figure()\n",
    "plot_confusion_matrix(cnf_matrix, classes=class_names,\n",
    "                      title='Confusion matrix, without normalization')\n",
    "\n",
    "# Plot normalized confusion matrix\n",
    "plt.figure()\n",
    "plot_confusion_matrix(cnf_matrix, classes=class_names, normalize=True,\n",
    "                      title='Normalized confusion matrix')\n",
    "\n",
    "plt.show()"
   ]
  },
  {
   "cell_type": "markdown",
   "metadata": {},
   "source": [
    "The benchmark predict shows adequate accuracy. Cross validation for other stocks is necessary to confirm the accuracy of this predictor."
   ]
  },
  {
   "cell_type": "markdown",
   "metadata": {},
   "source": [
    "## Test Suite\n",
    "This test suite is used to backtest the model using a random selection of 200 stocks. Out of these 200 stocks, 100 stocks will be from the S&P 500."
   ]
  },
  {
   "cell_type": "code",
   "execution_count": null,
   "metadata": {
    "collapsed": false,
    "scrolled": false
   },
   "outputs": [],
   "source": [
    "import random\n",
    "from joblib import Parallel, delayed\n",
    "from sklearn.metrics import mean_squared_error\n",
    "from sklearn.metrics import r2_score\n",
    "\n",
    "# CHANGE Model Here\n",
    "model = svm.SVR()\n",
    "# random.seed(0)\n",
    "indicies = random.sample(range(0, len(sp500)), 100)\n",
    "\n",
    "def metrics(index):\n",
    "    ticker = sp500.iloc[index][0]\n",
    "    \n",
    "    try:\n",
    "        stock = Stock(ticker)\n",
    "        features = FeatureEngineering(stock)\n",
    "\n",
    "        model.fit(features.X_train, features.y_train)\n",
    "        y_pred = model.predict(features.X_test)\n",
    "\n",
    "        # Testing Metrics for regression\n",
    "        return [ticker, mean_squared_error(features.y_test, y_pred), r2_score(features.y_test, y_pred)]\n",
    "    except:\n",
    "        return [ticker, None, None]\n",
    "    \n",
    "\n",
    "results = pd.DataFrame(Parallel(n_jobs=20)(delayed(metrics)(index) for index in indicies), columns=['ticker','MSE', 'R2'])"
   ]
  },
  {
   "cell_type": "code",
   "execution_count": null,
   "metadata": {
    "collapsed": false
   },
   "outputs": [],
   "source": [
    "results['R2'].hist(range=[-1,1])"
   ]
  },
  {
   "cell_type": "code",
   "execution_count": null,
   "metadata": {
    "collapsed": false
   },
   "outputs": [],
   "source": [
    "results['MSE'].hist(range=[0,0.001])"
   ]
  },
  {
   "cell_type": "code",
   "execution_count": null,
   "metadata": {
    "collapsed": true
   },
   "outputs": [],
   "source": []
  },
  {
   "cell_type": "code",
   "execution_count": null,
   "metadata": {
    "collapsed": false
   },
   "outputs": [],
   "source": [
    "\"\"\"pipeline = Pipeline([\n",
    "        ('features', Pipeline([\n",
    "            ('K', K()),\n",
    "            ('D', D()),\n",
    "            ('Slow_D', Slow_D()),\n",
    "            ('momentum', Momentum()),\n",
    "            ('ROC', ROC()),\n",
    "            ('williams_r', Williams_R()),\n",
    "            ('ADL', ADL()),\n",
    "            ('disparity_5', Disparity(5)),\n",
    "            ('disparity_10', Disparity(10)),\n",
    "            ('PPO', PPO()),\n",
    "            ('CCI', CCI()),\n",
    "            ('RSI', RSI()),\n",
    "            ('Windowing', Windowing())\n",
    "        ])),\n",
    "        ('column_deletion', ColumnDeletion(['adj_low', 'adj_close', 'adj_volume', 'adj_high'])),\n",
    "        # TODO: Add feature scaling\n",
    "        ('estimator', svm.SVC())\n",
    "    ])\"\"\"\n",
    "# grid_search = GridSearchCV(pipeline, param_grid={})\n",
    "# grid_search.fit(X_train, y_train)\n",
    "# grid_search.best_score_"
   ]
  },
  {
   "cell_type": "code",
   "execution_count": null,
   "metadata": {
    "collapsed": false,
    "scrolled": true
   },
   "outputs": [],
   "source": [
    "validation = pd.DataFrame(y_pred)\n",
    "validation['true'] = pipeline.transform(X_test)\n",
    "validation.plot(kind='scatter',x=0, y='true')"
   ]
  }
 ],
 "metadata": {
  "anaconda-cloud": {},
  "kernelspec": {
   "display_name": "Python [conda root]",
   "language": "python",
   "name": "conda-root-py"
  },
  "language_info": {
   "codemirror_mode": {
    "name": "ipython",
    "version": 3
   },
   "file_extension": ".py",
   "mimetype": "text/x-python",
   "name": "python",
   "nbconvert_exporter": "python",
   "pygments_lexer": "ipython3",
   "version": "3.5.2"
  }
 },
 "nbformat": 4,
 "nbformat_minor": 0
}
