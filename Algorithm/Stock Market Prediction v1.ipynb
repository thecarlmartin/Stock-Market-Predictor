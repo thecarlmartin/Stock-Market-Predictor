{
 "cells": [
  {
   "cell_type": "markdown",
   "metadata": {},
   "source": [
    "# Predicting Stock Markets\n",
    "\n",
    "## Setup"
   ]
  },
  {
   "cell_type": "code",
   "execution_count": 1,
   "metadata": {
    "collapsed": false,
    "scrolled": true
   },
   "outputs": [],
   "source": [
    "import pandas as pd\n",
    "import numpy as np\n",
    "import pandas_datareader.data as web\n",
    "from datetime import datetime\n",
    "from sqlalchemy import create_engine # database connection\n",
    "from IPython.display import display\n",
    "import requests\n",
    "\n",
    "%matplotlib inline"
   ]
  },
  {
   "cell_type": "markdown",
   "metadata": {},
   "source": [
    "## Database"
   ]
  },
  {
   "cell_type": "code",
   "execution_count": 13,
   "metadata": {
    "collapsed": false,
    "scrolled": true
   },
   "outputs": [],
   "source": [
    "class Database(object):\n",
    "    \n",
    "    def __init__(self):\n",
    "        \n",
    "        self.engine = create_engine('sqlite:///data/datalake.db')\n",
    "\n",
    "\n",
    "    def save(self, tablename, data, behavior='fail', index=False):\n",
    "        \n",
    "        '''behavior options:\n",
    "        fail: If table exists, do nothing.\n",
    "        replace: If table exists, drop it, recreate it, and insert data.\n",
    "        append: If table exists, insert data. Create if does not exist.'''\n",
    "        \n",
    "        data.to_sql(tablename, self.engine, if_exists=behavior, index=index)\n",
    "    \n",
    "    def search_ticker(self, query):\n",
    "        return pd.read_sql(\"SELECT security_name, ticker FROM 'Master Data' WHERE security_name LIKE '%{}%' OR ticker LIKE '%{}%'\".format(query, query), self.engine)\n",
    "    \n",
    "    def retrieve_prices(self, ticker):\n",
    "        ticker = ticker.upper()\n",
    "        prices = pd.read_sql(\"SELECT * from '{}'\".format(ticker), self.engine)\n",
    "        prices = prices.set_index('date')\n",
    "        return prices"
   ]
  },
  {
   "cell_type": "code",
   "execution_count": 14,
   "metadata": {
    "collapsed": false
   },
   "outputs": [],
   "source": [
    "database = Database()"
   ]
  },
  {
   "cell_type": "markdown",
   "metadata": {},
   "source": [
    "## Data Connections\n",
    "In the beginning I'm connecting with Yahoo using the Pandas DataReader for easy acces to stock data"
   ]
  },
  {
   "cell_type": "code",
   "execution_count": 15,
   "metadata": {
    "collapsed": false,
    "scrolled": true
   },
   "outputs": [],
   "source": [
    "start = datetime(2000,1,1)\n",
    "end = datetime(2016,10,1)\n",
    "\n",
    "stock = \"aapl\"\n",
    "stock_data = web.DataReader(stock, \"yahoo\", start, end)"
   ]
  },
  {
   "cell_type": "code",
   "execution_count": 16,
   "metadata": {
    "collapsed": false,
    "scrolled": true
   },
   "outputs": [
    {
     "data": {
      "text/plain": [
       "<matplotlib.axes._subplots.AxesSubplot at 0x118c37198>"
      ]
     },
     "execution_count": 16,
     "metadata": {},
     "output_type": "execute_result"
    },
    {
     "data": {
      "image/png": "[encoded data removed]",
      "text/plain": [
       "<matplotlib.figure.Figure at 0x118c25d30>"
      ]
     },
     "metadata": {},
     "output_type": "display_data"
    }
   ],
   "source": [
    "stock_data[\"Adj Close\"].plot()"
   ]
  },
  {
   "cell_type": "markdown",
   "metadata": {},
   "source": [
    "### Wikipedia"
   ]
  },
  {
   "cell_type": "code",
   "execution_count": 17,
   "metadata": {
    "collapsed": false
   },
   "outputs": [],
   "source": [
    "# Get Current S&P 500 Stocks\n",
    "r = requests.get('https://extraction.import.io/query/extractor/d7417831-edc5-4fd1-9b57-26606728d3a0?_apikey=c5d8f713017f49ea8b77160a194b731468328172572b117710aa880cbb30e999f638bcf59fe2160122c8ef8fccc7a56e1f0042111d2be5509a6478e40fae5506206ce53f1fa15da66bc2c35003806243&url=https%3A%2F%2Fen.wikipedia.org%2Fwiki%2FList_of_S%2526P_500_companies')\n",
    "sp500 = pd.DataFrame(r.json()['extractorData']['data'][0]['group'])\n",
    "sp500['Ticker Symbol'] = sp500['Ticker Symbol'].apply(lambda x: (x[0]['text']))"
   ]
  },
  {
   "cell_type": "markdown",
   "metadata": {},
   "source": [
    "### Intrino\n",
    "The data connection with Intrinio will be used in production, because they allow redistribution of certain datasets."
   ]
  },
  {
   "cell_type": "code",
   "execution_count": 18,
   "metadata": {
    "collapsed": false
   },
   "outputs": [],
   "source": [
    "import requests\n",
    "import json\n",
    "\n",
    "class Intrinio(object):\n",
    "    \n",
    "    def __init__(self):\n",
    "        \n",
    "        self.user = 'b8f16afb02891a7fc1085118fd64ad47'\n",
    "        self.password = '5ad4db89b891c478803e731c8b3ff2d0'\n",
    "    \n",
    "    def request(self, url, payload={}):\n",
    "        \n",
    "        r = requests.get(url, params=payload, auth=(self.user, self.password))\n",
    "    \n",
    "        if r.status_code == 200:\n",
    "\n",
    "            return json.loads(r.text)\n",
    "        \n",
    "        else:\n",
    "            raise RuntimeError('An error has occurred while requesting data. Status Code:{}'.format(r.status_code))\n",
    "    \n",
    "    def extract_data(self, response):\n",
    "        \n",
    "        return pd.DataFrame(response['data'])\n",
    "    \n",
    "    def multiple_pages(self, url, parameters={}):\n",
    "        response = self.request(url, parameters)\n",
    "        data = self.extract_data(response)\n",
    "\n",
    "        if response['total_pages'] > 1:\n",
    "            i = 2\n",
    "            \n",
    "            while i <= response['total_pages']:\n",
    "                \n",
    "                parameters['page_number'] = i\n",
    "                data = data.append(self.request(url, parameters)['data'], ignore_index=True)\n",
    "                i += 1\n",
    "        \n",
    "        return data\n",
    "\n",
    "    def request_new_prices(self, ticker):\n",
    "\n",
    "        response = self.request('https://api.intrinio.com/prices', {'identifier': ticker, 'sort_order':'asc'})\n",
    "        return self.extract_data(response).set_index('date')"
   ]
  },
  {
   "cell_type": "code",
   "execution_count": 19,
   "metadata": {
    "collapsed": true
   },
   "outputs": [],
   "source": [
    "intrinio = Intrinio()"
   ]
  },
  {
   "cell_type": "code",
   "execution_count": 20,
   "metadata": {
    "collapsed": false,
    "scrolled": false
   },
   "outputs": [],
   "source": [
    "# Refresh Master Data - Ticker and Company Name\n",
    "class MasterData(object):\n",
    "    \n",
    "    def __init__(self, data_provider, database, refresh=False):\n",
    "        \n",
    "        self.data_provider = data_provider\n",
    "        self.database = database\n",
    "        \n",
    "        if refresh == True:\n",
    "            master_data = self.data_provider.multiple_pages('https://api.intrinio.com/securities')\n",
    "            self.data = master_data\n",
    "            self.database.save('Master Data', master_data, 'replace')\n",
    "            print('Master Data was refreshed.')\n",
    "        else:\n",
    "            self.data = pd.read_sql(\"SELECT * FROM 'Master Data'\", self.database.engine)"
   ]
  },
  {
   "cell_type": "code",
   "execution_count": 21,
   "metadata": {
    "collapsed": false,
    "scrolled": true
   },
   "outputs": [],
   "source": [
    "master_data = MasterData(intrinio, database)"
   ]
  },
  {
   "cell_type": "code",
   "execution_count": 22,
   "metadata": {
    "collapsed": false
   },
   "outputs": [
    {
     "data": {
      "text/html": [
       "<div>\n",
       "<table border=\"1\" class=\"dataframe\">\n",
       "  <thead>\n",
       "    <tr style=\"text-align: right;\">\n",
       "      <th></th>\n",
       "      <th>delisted_security</th>\n",
       "      <th>etf</th>\n",
       "      <th>financial_status</th>\n",
       "      <th>last_crsp_adj_date</th>\n",
       "      <th>listing_exchange</th>\n",
       "      <th>market_category</th>\n",
       "      <th>primary_security</th>\n",
       "      <th>round_lot_size</th>\n",
       "      <th>security_class</th>\n",
       "      <th>security_name</th>\n",
       "      <th>security_type</th>\n",
       "      <th>stock_exchange</th>\n",
       "      <th>ticker</th>\n",
       "    </tr>\n",
       "  </thead>\n",
       "  <tbody>\n",
       "    <tr>\n",
       "      <th>0</th>\n",
       "      <td>0</td>\n",
       "      <td>0</td>\n",
       "      <td>N</td>\n",
       "      <td>2016-08-04</td>\n",
       "      <td>Nasdaq</td>\n",
       "      <td>Global Select Market</td>\n",
       "      <td>1</td>\n",
       "      <td>100</td>\n",
       "      <td>None</td>\n",
       "      <td>Apple Inc. - Common Stock</td>\n",
       "      <td>Common Stock</td>\n",
       "      <td>NasdaqGS</td>\n",
       "      <td>AAPL</td>\n",
       "    </tr>\n",
       "    <tr>\n",
       "      <th>1</th>\n",
       "      <td>0</td>\n",
       "      <td>0</td>\n",
       "      <td>None</td>\n",
       "      <td>2016-09-30</td>\n",
       "      <td>NYSE</td>\n",
       "      <td>None</td>\n",
       "      <td>1</td>\n",
       "      <td>100</td>\n",
       "      <td>None</td>\n",
       "      <td>Apple Hospitality REIT, Inc. Common Shares</td>\n",
       "      <td>Common Shares</td>\n",
       "      <td>NYSE</td>\n",
       "      <td>APLE</td>\n",
       "    </tr>\n",
       "    <tr>\n",
       "      <th>2</th>\n",
       "      <td>0</td>\n",
       "      <td>0</td>\n",
       "      <td>None</td>\n",
       "      <td>2016-09-09</td>\n",
       "      <td>NYSE</td>\n",
       "      <td>None</td>\n",
       "      <td>1</td>\n",
       "      <td>100</td>\n",
       "      <td>None</td>\n",
       "      <td>Dr Pepper Snapple Group, Inc Dr Pepper Snapple...</td>\n",
       "      <td>Common Stock</td>\n",
       "      <td>NYSE</td>\n",
       "      <td>DPS</td>\n",
       "    </tr>\n",
       "    <tr>\n",
       "      <th>3</th>\n",
       "      <td>0</td>\n",
       "      <td>0</td>\n",
       "      <td>None</td>\n",
       "      <td>2000-03-08</td>\n",
       "      <td>NYSE</td>\n",
       "      <td>None</td>\n",
       "      <td>1</td>\n",
       "      <td>100</td>\n",
       "      <td>None</td>\n",
       "      <td>Maui Land &amp; Pineapple Company, Inc. Common Stock</td>\n",
       "      <td>Common Stock</td>\n",
       "      <td>NYSE</td>\n",
       "      <td>MLP</td>\n",
       "    </tr>\n",
       "  </tbody>\n",
       "</table>\n",
       "</div>"
      ],
      "text/plain": [
       "   delisted_security  etf financial_status last_crsp_adj_date  \\\n",
       "0                  0    0                N         2016-08-04   \n",
       "1                  0    0             None         2016-09-30   \n",
       "2                  0    0             None         2016-09-09   \n",
       "3                  0    0             None         2000-03-08   \n",
       "\n",
       "  listing_exchange       market_category  primary_security  round_lot_size  \\\n",
       "0           Nasdaq  Global Select Market                 1             100   \n",
       "1             NYSE                  None                 1             100   \n",
       "2             NYSE                  None                 1             100   \n",
       "3             NYSE                  None                 1             100   \n",
       "\n",
       "  security_class                                      security_name  \\\n",
       "0           None                          Apple Inc. - Common Stock   \n",
       "1           None         Apple Hospitality REIT, Inc. Common Shares   \n",
       "2           None  Dr Pepper Snapple Group, Inc Dr Pepper Snapple...   \n",
       "3           None   Maui Land & Pineapple Company, Inc. Common Stock   \n",
       "\n",
       "   security_type stock_exchange ticker  \n",
       "0   Common Stock       NasdaqGS   AAPL  \n",
       "1  Common Shares           NYSE   APLE  \n",
       "2   Common Stock           NYSE    DPS  \n",
       "3   Common Stock           NYSE    MLP  "
      ]
     },
     "execution_count": 22,
     "metadata": {},
     "output_type": "execute_result"
    }
   ],
   "source": [
    "pd.read_sql(\"SELECT * FROM 'Master Data' WHERE security_name LIKE '%Apple%'\", database.engine)"
   ]
  },
  {
   "cell_type": "code",
   "execution_count": 23,
   "metadata": {
    "collapsed": false
   },
   "outputs": [],
   "source": [
    "class Stock(object):\n",
    "\n",
    "    def __init__(self, ticker, data_provider=intrinio, database=database):\n",
    "        \n",
    "        self.data_provider = data_provider\n",
    "        self.database = database\n",
    "        self.ticker = ticker.upper()\n",
    "        self.company_name = self.retrieve_company_name(ticker)\n",
    "        \n",
    "        try:\n",
    "            # TODO: Check for current date\n",
    "            self.prices()\n",
    "        except:\n",
    "            self.download_prices()\n",
    "            \n",
    "    def retrieve_company_name(self, ticker):\n",
    "        \n",
    "        try:\n",
    "            company_name = pd.read_sql(\"SELECT security_name FROM 'Master Data' WHERE ticker = '{}'\".format(ticker), self.database.engine).ix[0][0]\n",
    "            return company_name\n",
    "        \n",
    "        except:\n",
    "            raise ValueError('The ticker {} you entered is not valid.'.format(ticker))\n",
    "    \n",
    "    def compute_daily_ret(self, data):\n",
    "        data = data['adj_close']\n",
    "        daily_ret = data.copy()\n",
    "        daily_ret[1:] = (data[1:] / data[:-1].values) - 1\n",
    "        daily_ret.ix[0] = 0\n",
    "        return daily_ret\n",
    "    \n",
    "    def download_prices(self):\n",
    "        \n",
    "        prices = self.data_provider.request_new_prices(self.ticker)\n",
    "        \n",
    "        if len(prices) < 1:\n",
    "            raise RuntimeError('An error occurred, while downloading the prices.')\n",
    "        \n",
    "        prices['daily_ret'] = self.compute_daily_ret(prices)\n",
    "        self.database.save(self.ticker, prices, 'replace', 'date')\n",
    "        \n",
    "    def prices(self):\n",
    "        prices = self.database.retrieve_prices(self.ticker)\n",
    "        return prices"
   ]
  },
  {
   "cell_type": "markdown",
   "metadata": {},
   "source": [
    "## Feature Engineering"
   ]
  },
  {
   "cell_type": "code",
   "execution_count": 24,
   "metadata": {
    "collapsed": true
   },
   "outputs": [],
   "source": [
    "def train_test_split(X, y, test_size=0.2, target='daily_ret'):\n",
    "        index = int(len(X) * (1 - test_size))\n",
    "        return X[:index], X[index:], y[:index][target].values, y[index:][target].values"
   ]
  },
  {
   "cell_type": "markdown",
   "metadata": {},
   "source": [
    "According to \"Stock Market Prediction with multiple classifiers\" to parameters have to be chosen for the rolling window technique - d (number of input days) and t (separation). Since executing trades very frequently, I chose t to be equal to seven.\n",
    "\n",
    "\n",
    "I'm implementing the Feature Engineering steps as custom sklearn transformers to be able to use GridSearch and FeatureUnion for hyper-parameter tuning. Source: http://danielhnyk.cz/creating-your-own-estimator-scikit-learn/ and http://zacstewart.com/2014/08/05/pipelines-of-featureunions-of-pipelines.html"
   ]
  },
  {
   "cell_type": "code",
   "execution_count": 25,
   "metadata": {
    "collapsed": true
   },
   "outputs": [],
   "source": [
    "from sklearn.base import BaseEstimator, TransformerMixin\n",
    "from sklearn.pipeline import Pipeline, FeatureUnion"
   ]
  },
  {
   "cell_type": "code",
   "execution_count": 26,
   "metadata": {
    "collapsed": false
   },
   "outputs": [
    {
     "data": {
      "text/plain": [
       "array([0, 1, 2, 3, 4, 5])"
      ]
     },
     "execution_count": 26,
     "metadata": {},
     "output_type": "execute_result"
    }
   ],
   "source": [
    "np.arange(0, 6)"
   ]
  },
  {
   "cell_type": "code",
   "execution_count": 27,
   "metadata": {
    "collapsed": false
   },
   "outputs": [],
   "source": [
    "class Windowing(BaseEstimator, TransformerMixin):\n",
    "    '''\n",
    "    http://stockcharts.com/school/doku.php?st=roc&id=chart_school:technical_indicators:rate_of_change_roc_and_momentum\n",
    "    '''\n",
    "    def __init__(self, t=5, feature='daily_ret'):\n",
    "        \n",
    "        self.t = t\n",
    "        self.feature = feature\n",
    "    \n",
    "    def fit(self, X, y=None, **fit_params):\n",
    "        return self\n",
    "    \n",
    "    def transform(self, X):\n",
    "        X = X.copy()\n",
    "        columns = ['{}_{}'.format(self.feature, 0)]\n",
    "        X.loc[:,'{}_{}'.format(self.feature, 0)] = X[:][self.feature].values\n",
    "        for i in np.arange(1, self.t+1):\n",
    "            X.loc[i:,'{}_{}'.format(self.feature, i)] = X[:-i][self.feature].values\n",
    "            X.loc[:i,'{}_{}'.format(self.feature, i)] = 0\n",
    "            columns.append('{}_{}'.format(self.feature, i))\n",
    "        return X[columns]"
   ]
  },
  {
   "cell_type": "markdown",
   "metadata": {},
   "source": [
    "K compares where a security’s price closed relative to its price range over a given time period. D is the moving average of K, while slow D is the moving average of D."
   ]
  },
  {
   "cell_type": "code",
   "execution_count": 28,
   "metadata": {
    "collapsed": false
   },
   "outputs": [],
   "source": [
    "class K(BaseEstimator, TransformerMixin):\n",
    "    \n",
    "    def __init__(self, t1=14):\n",
    "        \n",
    "        self.t1 = t1\n",
    "    \n",
    "    def fit(self, X, y=None, **fit_params):\n",
    "        return self\n",
    "    \n",
    "    def transform(self, X):\n",
    "        X = X.copy()\n",
    "        rolling = X['adj_close'].rolling(window=self.t1)\n",
    "        X['K'] = (X['adj_close']-rolling.min())/(rolling.max()-rolling.min())*100\n",
    "        X['K'].loc[:self.t1 - 1] = 50 # Imputing missing values\n",
    "        return X[['K']]\n",
    "\n",
    "class D(BaseEstimator, TransformerMixin):\n",
    "    \n",
    "    def __init__(self, t2=3):\n",
    "        \n",
    "        self.t2 = t2\n",
    "    \n",
    "    def fit(self, X, y=None, **fit_params):\n",
    "        return self\n",
    "    \n",
    "    def transform(self, X):\n",
    "        X = X.copy()\n",
    "        rolling = X['K'].rolling(window=self.t2)\n",
    "        X['D'] = rolling.mean()\n",
    "        X['D'].loc[:self.t2-1] = 50\n",
    "        return X[['D']]\n",
    "    \n",
    "class Slow_D(BaseEstimator, TransformerMixin):\n",
    "    \n",
    "    def __init__(self, t3=3):\n",
    "        \n",
    "        self.t3 = t3\n",
    "    \n",
    "    def fit(self, X, y=None, **fit_params):\n",
    "        return self\n",
    "    \n",
    "    def transform(self, X):\n",
    "        X = X.copy()\n",
    "        rolling = X['D'].rolling(window=self.t3)\n",
    "        X['slow_D'] = rolling.mean()\n",
    "        X['slow_D'].loc[:self.t3-1] = 50\n",
    "        return X[['slow_D']]"
   ]
  },
  {
   "cell_type": "markdown",
   "metadata": {},
   "source": [
    "Momentum measures the amount that a security’s price has changed over a given time span. Price rate-of-change. It displays the diference between the current price and the price n days ago. Larry William’s R. It is a momentum indicator that measures overbought/oversold levels."
   ]
  },
  {
   "cell_type": "code",
   "execution_count": 29,
   "metadata": {
    "collapsed": true
   },
   "outputs": [],
   "source": [
    "class Momentum(BaseEstimator, TransformerMixin):\n",
    "    '''\n",
    "    http://stockcharts.com/school/doku.php?st=roc&id=chart_school:technical_indicators:rate_of_change_roc_and_momentum\n",
    "    '''\n",
    "    def __init__(self, t=12):\n",
    "        \n",
    "        self.t = t\n",
    "    \n",
    "    def fit(self, X, y=None, **fit_params):\n",
    "        return self\n",
    "    \n",
    "    def transform(self, X):\n",
    "        X = X.copy()\n",
    "        X['momentum_{}'.format(self.t)] = X['adj_close'][self.t:] - X['adj_close'][:-self.t].values\n",
    "        X['momentum_{}'.format(self.t)].loc[:self.t] = 0\n",
    "        return X[['momentum_{}'.format(self.t)]]\n",
    "\n",
    "class ROC(BaseEstimator, TransformerMixin):\n",
    "    '''\n",
    "    http://stockcharts.com/school/doku.php?st=roc&id=chart_school:technical_indicators:rate_of_change_roc_and_momentum\n",
    "    '''\n",
    "    def __init__(self, t=12):\n",
    "        \n",
    "        self.t = t\n",
    "    \n",
    "    def fit(self, X, y=None, **fit_params):\n",
    "        return self\n",
    "    \n",
    "    def transform(self, X):\n",
    "        X = X.copy()\n",
    "        X['ROC_{}'.format(self.t)] = (X['adj_close'][self.t:] / X['adj_close'][:-self.t].values) * 100\n",
    "        X['ROC_{}'.format(self.t)].loc[:self.t] = 0\n",
    "        return X[['ROC_{}'.format(self.t)]]\n",
    "\n",
    "class Williams_R(BaseEstimator, TransformerMixin):\n",
    "    '''\n",
    "    http://stockcharts.com/school/doku.php?id=chart_school:technical_indicators:williams_r\n",
    "    '''\n",
    "    def __init__(self, t=14):\n",
    "        \n",
    "        self.t = t\n",
    "    \n",
    "    def fit(self, X, y=None, **fit_params):\n",
    "        return self\n",
    "    \n",
    "    def transform(self, X):\n",
    "        X = X.copy()\n",
    "        rolling_low = X['adj_low'].rolling(window=self.t)\n",
    "        rolling_high = X['adj_high'].rolling(window=self.t)\n",
    "        X['williams_r'] = (rolling_high.max()-X['adj_close'])/(rolling_high.max()-rolling_low.min()) * 100\n",
    "        X['williams_r'].loc[:self.t-1] = 50\n",
    "        return X[['williams_r']]\n",
    "\n",
    "class ADL(BaseEstimator, TransformerMixin):\n",
    "    '''\n",
    "    http://stockcharts.com/school/doku.php?id=chart_school:technical_indicators:accumulation_distribution_line\n",
    "    '''\n",
    "    def __init__(self, t=2):\n",
    "        self.t = t\n",
    "    \n",
    "    def fit(self, X, y=None, **fit_params):\n",
    "        return self\n",
    "    \n",
    "    def transform(self, X):\n",
    "        X = X.copy()\n",
    "        \n",
    "        money_flow_multiplier = ((X['adj_close'] - X['adj_low']) - (X['adj_high'] - X['adj_close'])) / (X['adj_high'] - X['adj_low'])\n",
    "        money_flow_multiplier = money_flow_multiplier.fillna(1) # Whenever low and high are identical one is substituted to avioid na\n",
    "        money_flow_volume = money_flow_multiplier * X['adj_volume']\n",
    "        rolling = money_flow_volume.rolling(window=self.t)\n",
    "        X['ADL'] = rolling.sum()\n",
    "        X['ADL'].iloc[:self.t-1] = money_flow_volume.iloc[:self.t-1].cumsum()\n",
    "        return X[['ADL']]"
   ]
  },
  {
   "cell_type": "markdown",
   "metadata": {},
   "source": [
    "Disparity is a momentum indicator that captures distance of current price and the moving average of t days."
   ]
  },
  {
   "cell_type": "code",
   "execution_count": 30,
   "metadata": {
    "collapsed": false
   },
   "outputs": [],
   "source": [
    "class Disparity(BaseEstimator, TransformerMixin):\n",
    "    '''\n",
    "    http://www.investopedia.com/ask/answers/121214/why-disparity-index-important-traders-and-analysts.asp\n",
    "    '''\n",
    "    def __init__(self, t=5):\n",
    "        self.t = t\n",
    "    \n",
    "    def fit(self, X, y=None, **fit_params):\n",
    "        return self\n",
    "    \n",
    "    def transform(self, X):\n",
    "        X = X.copy()\n",
    "        rolling = X['adj_close'].rolling(window=self.t)\n",
    "        X['disparity_{}'.format(self.t)] = X['adj_close'] / rolling.mean() * 100\n",
    "        X['disparity_{}'.format(self.t)].loc[:self.t-1]=100\n",
    "        return X[['disparity_{}'.format(self.t)]]\n",
    "\n",
    "class PPO(BaseEstimator, TransformerMixin):\n",
    "    '''\n",
    "    http://stockcharts.com/school/doku.php?id=chart_school:technical_indicators:price_oscillators_ppo\n",
    "    '''\n",
    "    def __init__(self):\n",
    "        pass\n",
    "    \n",
    "    def fit(self, X, y=None, **fit_params):\n",
    "        return self\n",
    "    \n",
    "    def transform(self, X):\n",
    "        X = X.copy()\n",
    "        EMA_12 = X['adj_close'].ewm(com=12)\n",
    "        EMA_26 = X['adj_close'].ewm(com=26)\n",
    "        X['PPO'] = ((EMA_12.mean() - EMA_26.mean())/EMA_26.mean()) * 100\n",
    "        return X[['PPO']]\n",
    "\n",
    "class CCI(BaseEstimator, TransformerMixin):\n",
    "    '''\n",
    "    http://stockcharts.com/school/doku.php?id=chart_school:technical_indicators:commodity_channel_index_cci\n",
    "    '''\n",
    "    def __init__(self, t=20):\n",
    "        self.t = t\n",
    "    \n",
    "    def fit(self, X, y=None, **fit_params):\n",
    "        return self\n",
    "    \n",
    "    def transform(self, X):\n",
    "        typical_price = (X['adj_high'] + X ['adj_low'] + X['adj_close'])/3\n",
    "        rolling_tp = typical_price.rolling(window=self.t)\n",
    "        mad = lambda x: np.fabs(x - x.mean()).mean()\n",
    "\n",
    "        X['CCI'] = (typical_price - rolling_tp.mean())/(0.015* rolling_tp.apply(mad))\n",
    "        X['CCI'].loc[:self.t-1] = 0\n",
    "        return X[['CCI']]\n",
    "\n",
    "class RSI(BaseEstimator, TransformerMixin):\n",
    "    '''\n",
    "    http://stockcharts.com/school/doku.php?id=chart_school:technical_indicators:commodity_channel_index_cci\n",
    "    '''\n",
    "    def __init__(self, t=14):\n",
    "        self.t = t\n",
    "    \n",
    "    def fit(self, X, y=None, **fit_params):\n",
    "        return self\n",
    "    \n",
    "    def transform(self, X):\n",
    "        delta = Momentum(1).transform(X)['momentum_1']\n",
    "        dUp, dDown = delta.copy(), delta.copy()\n",
    "        dUp[dUp < 0] = 0\n",
    "        dDown[dDown > 0] = 0\n",
    "\n",
    "        RolUp = dUp.rolling(window=self.t).mean()\n",
    "        RolDown = dDown.rolling(window=self.t).mean().abs()\n",
    "\n",
    "        RS = RolUp / RolDown\n",
    "        X['RSI'] = 100 - 100/(1+RS)\n",
    "        X['RSI'].loc[:self.t-1] = 50\n",
    "        return X[['RSI']]"
   ]
  },
  {
   "cell_type": "code",
   "execution_count": 31,
   "metadata": {
    "collapsed": true
   },
   "outputs": [],
   "source": [
    "class ColumnExtractor(BaseEstimator, TransformerMixin):\n",
    "    def __init__(self, columns=[]):\n",
    "        self.columns = columns\n",
    "    \n",
    "    def fit(self, X, y=None, **fit_params):\n",
    "        return self\n",
    "    \n",
    "    def transform(self, X):\n",
    "        return X[self.columns]\n",
    "\n",
    "class Scaling(BaseEstimator, TransformerMixin):\n",
    "    def __init__(self, columns=[]):\n",
    "        self.columns = columns\n",
    "    \n",
    "    def fit(self, X, y=None, **fit_params):\n",
    "        return self\n",
    "    \n",
    "    def transform(self, X):\n",
    "        X = X.copy()\n",
    "        for column in self.columns:\n",
    "            X[column] = np.log(X[column])\n",
    "        return X\n",
    "\n",
    "class ModelTransformer(BaseEstimator, TransformerMixin):\n",
    "\n",
    "    def __init__(self, model):\n",
    "        self.model = model\n",
    "\n",
    "    def fit(self, *args, **kwargs):\n",
    "        self.model.fit(*args, **kwargs)\n",
    "        return self\n",
    "\n",
    "    def transform(self, X, **transform_params):\n",
    "        return pd.DataFrame(self.model.predict(X))"
   ]
  },
  {
   "cell_type": "markdown",
   "metadata": {},
   "source": [
    "### Data Preparation"
   ]
  },
  {
   "cell_type": "code",
   "execution_count": 32,
   "metadata": {
    "collapsed": false
   },
   "outputs": [],
   "source": [
    "stock  = Stock('AAPL')"
   ]
  },
  {
   "cell_type": "code",
   "execution_count": 33,
   "metadata": {
    "collapsed": false
   },
   "outputs": [],
   "source": [
    "X = stock.prices()[['adj_low', 'adj_high', 'adj_close','adj_volume', 'daily_ret']]\n",
    "\n",
    "# Time delay between X and y\n",
    "time_delay = 1\n",
    "\n",
    "# Calculate the price difference between current price and price seven days prior\n",
    "target_transformation = Momentum(time_delay) #\n",
    "y = target_transformation.transform(X)\n",
    "y.columns = ['target']\n",
    "y['target'] = y['target'].apply(lambda x: 1 if x > 0 else -1)\n",
    "\n",
    "# Training, testing split\n",
    "X_train, X_test, y_train, y_test = train_test_split(X[:-time_delay], y[time_delay:], target='target')"
   ]
  },
  {
   "cell_type": "markdown",
   "metadata": {},
   "source": [
    "### Data Exploration"
   ]
  },
  {
   "cell_type": "code",
   "execution_count": 34,
   "metadata": {
    "collapsed": false
   },
   "outputs": [
    {
     "data": {
      "text/plain": [
       "<matplotlib.axes._subplots.AxesSubplot at 0x11b4beeb8>"
      ]
     },
     "execution_count": 34,
     "metadata": {},
     "output_type": "execute_result"
    },
    {
     "data": {
      "image/png": "[encoded data removed]",
      "text/plain": [
       "<matplotlib.figure.Figure at 0x11b6049b0>"
      ]
     },
     "metadata": {},
     "output_type": "display_data"
    }
   ],
   "source": [
    "pd.DataFrame(y_train)[0].hist()"
   ]
  },
  {
   "cell_type": "code",
   "execution_count": 35,
   "metadata": {
    "collapsed": true
   },
   "outputs": [],
   "source": [
    "from sklearn.decomposition import PCA\n",
    "\n",
    "# Classification\n",
    "pipeline = Pipeline([\n",
    "        ('features', FeatureUnion([\n",
    "            ('K', Pipeline([\n",
    "                ('transformer', K()),\n",
    "                ('scale', Scaling())\n",
    "            ])),\n",
    "            ('Momentum', Pipeline([\n",
    "                ('transformer', Momentum()),\n",
    "                ('scale', Scaling())\n",
    "            ])),\n",
    "            ('ROC', Pipeline([\n",
    "                ('transformer', ROC()),\n",
    "                ('scale', Scaling())\n",
    "            ])),\n",
    "            ('williams_r', Pipeline([\n",
    "                ('transformer', Williams_R()),\n",
    "                ('scale', Scaling())\n",
    "            ])),\n",
    "            ('ADL', Pipeline([\n",
    "                ('transformer', ADL()),\n",
    "                ('scale', Scaling())\n",
    "            ])),\n",
    "            ('Disparity', Pipeline([\n",
    "                ('transformer', Disparity(5)),\n",
    "                ('scale', Scaling())\n",
    "            ])),\n",
    "            ('PPO', Pipeline([\n",
    "                ('transformer', PPO()),\n",
    "                ('scale', Scaling())\n",
    "            ])),\n",
    "            ('CCI', Pipeline([\n",
    "                ('transformer', CCI()),\n",
    "                ('scale', Scaling())\n",
    "            ])),\n",
    "            ('RSI', Pipeline([\n",
    "                ('transformer', RSI()),\n",
    "                ('scale', Scaling())\n",
    "            ]))\n",
    "        ]))\n",
    "    ])"
   ]
  },
  {
   "cell_type": "code",
   "execution_count": 36,
   "metadata": {
    "collapsed": false,
    "scrolled": true
   },
   "outputs": [
    {
     "ename": "AttributeError",
     "evalue": "'Series' object has no attribute 'rolling'",
     "output_type": "error",
     "traceback": [
      "\u001b[0;31m---------------------------------------------------------------------------\u001b[0m",
      "\u001b[0;31mAttributeError\u001b[0m                            Traceback (most recent call last)",
      "\u001b[0;32m<ipython-input-36-50f023b17cd1>\u001b[0m in \u001b[0;36m<module>\u001b[0;34m()\u001b[0m\n\u001b[1;32m      2\u001b[0m \u001b[0;34m\u001b[0m\u001b[0m\n\u001b[1;32m      3\u001b[0m \u001b[0mfeatures\u001b[0m \u001b[0;34m=\u001b[0m \u001b[0;34m[\u001b[0m\u001b[0;34m'K'\u001b[0m\u001b[0;34m,\u001b[0m \u001b[0;34m'Momentum'\u001b[0m\u001b[0;34m,\u001b[0m \u001b[0;34m'ROC'\u001b[0m\u001b[0;34m,\u001b[0m \u001b[0;34m'Williams R'\u001b[0m\u001b[0;34m,\u001b[0m \u001b[0;34m'ADL'\u001b[0m\u001b[0;34m,\u001b[0m \u001b[0;34m'Disparity'\u001b[0m\u001b[0;34m,\u001b[0m \u001b[0;34m'PPO'\u001b[0m\u001b[0;34m,\u001b[0m \u001b[0;34m'CCI'\u001b[0m\u001b[0;34m,\u001b[0m \u001b[0;34m'RSI'\u001b[0m\u001b[0;34m]\u001b[0m\u001b[0;34m\u001b[0m\u001b[0m\n\u001b[0;32m----> 4\u001b[0;31m \u001b[0mX_transformed\u001b[0m \u001b[0;34m=\u001b[0m \u001b[0mpd\u001b[0m\u001b[0;34m.\u001b[0m\u001b[0mDataFrame\u001b[0m\u001b[0;34m(\u001b[0m\u001b[0mpipeline\u001b[0m\u001b[0;34m.\u001b[0m\u001b[0mfit_transform\u001b[0m\u001b[0;34m(\u001b[0m\u001b[0mX_train\u001b[0m\u001b[0;34m)\u001b[0m\u001b[0;34m,\u001b[0m \u001b[0mcolumns\u001b[0m\u001b[0;34m=\u001b[0m\u001b[0mfeatures\u001b[0m\u001b[0;34m)\u001b[0m\u001b[0;34m\u001b[0m\u001b[0m\n\u001b[0m\u001b[1;32m      5\u001b[0m \u001b[0mX_transformed\u001b[0m\u001b[0;34m[\u001b[0m\u001b[0;34m'target'\u001b[0m\u001b[0;34m]\u001b[0m \u001b[0;34m=\u001b[0m \u001b[0my_train\u001b[0m\u001b[0;34m\u001b[0m\u001b[0m\n\u001b[1;32m      6\u001b[0m \u001b[0;34m\u001b[0m\u001b[0m\n",
      "\u001b[0;32m/Users/carlmartin/anaconda/lib/python3.5/site-packages/sklearn/pipeline.py\u001b[0m in \u001b[0;36mfit_transform\u001b[0;34m(self, X, y, **fit_params)\u001b[0m\n\u001b[1;32m    301\u001b[0m         \u001b[0mXt\u001b[0m\u001b[0;34m,\u001b[0m \u001b[0mfit_params\u001b[0m \u001b[0;34m=\u001b[0m \u001b[0mself\u001b[0m\u001b[0;34m.\u001b[0m\u001b[0m_fit\u001b[0m\u001b[0;34m(\u001b[0m\u001b[0mX\u001b[0m\u001b[0;34m,\u001b[0m \u001b[0my\u001b[0m\u001b[0;34m,\u001b[0m \u001b[0;34m**\u001b[0m\u001b[0mfit_params\u001b[0m\u001b[0;34m)\u001b[0m\u001b[0;34m\u001b[0m\u001b[0m\n\u001b[1;32m    302\u001b[0m         \u001b[0;32mif\u001b[0m \u001b[0mhasattr\u001b[0m\u001b[0;34m(\u001b[0m\u001b[0mlast_step\u001b[0m\u001b[0;34m,\u001b[0m \u001b[0;34m'fit_transform'\u001b[0m\u001b[0;34m)\u001b[0m\u001b[0;34m:\u001b[0m\u001b[0;34m\u001b[0m\u001b[0m\n\u001b[0;32m--> 303\u001b[0;31m             \u001b[0;32mreturn\u001b[0m \u001b[0mlast_step\u001b[0m\u001b[0;34m.\u001b[0m\u001b[0mfit_transform\u001b[0m\u001b[0;34m(\u001b[0m\u001b[0mXt\u001b[0m\u001b[0;34m,\u001b[0m \u001b[0my\u001b[0m\u001b[0;34m,\u001b[0m \u001b[0;34m**\u001b[0m\u001b[0mfit_params\u001b[0m\u001b[0;34m)\u001b[0m\u001b[0;34m\u001b[0m\u001b[0m\n\u001b[0m\u001b[1;32m    304\u001b[0m         \u001b[0;32melif\u001b[0m \u001b[0mlast_step\u001b[0m \u001b[0;32mis\u001b[0m \u001b[0;32mNone\u001b[0m\u001b[0;34m:\u001b[0m\u001b[0;34m\u001b[0m\u001b[0m\n\u001b[1;32m    305\u001b[0m             \u001b[0;32mreturn\u001b[0m \u001b[0mXt\u001b[0m\u001b[0;34m\u001b[0m\u001b[0m\n",
      "\u001b[0;32m/Users/carlmartin/anaconda/lib/python3.5/site-packages/sklearn/pipeline.py\u001b[0m in \u001b[0;36mfit_transform\u001b[0;34m(self, X, y, **fit_params)\u001b[0m\n\u001b[1;32m    735\u001b[0m             delayed(_fit_transform_one)(trans, name, weight, X, y,\n\u001b[1;32m    736\u001b[0m                                         **fit_params)\n\u001b[0;32m--> 737\u001b[0;31m             for name, trans, weight in self._iter())\n\u001b[0m\u001b[1;32m    738\u001b[0m \u001b[0;34m\u001b[0m\u001b[0m\n\u001b[1;32m    739\u001b[0m         \u001b[0;32mif\u001b[0m \u001b[0;32mnot\u001b[0m \u001b[0mresult\u001b[0m\u001b[0;34m:\u001b[0m\u001b[0;34m\u001b[0m\u001b[0m\n",
      "\u001b[0;32m/Users/carlmartin/anaconda/lib/python3.5/site-packages/sklearn/externals/joblib/parallel.py\u001b[0m in \u001b[0;36m__call__\u001b[0;34m(self, iterable)\u001b[0m\n\u001b[1;32m    756\u001b[0m             \u001b[0;31m# was dispatched. In particular this covers the edge\u001b[0m\u001b[0;34m\u001b[0m\u001b[0;34m\u001b[0m\u001b[0m\n\u001b[1;32m    757\u001b[0m             \u001b[0;31m# case of Parallel used with an exhausted iterator.\u001b[0m\u001b[0;34m\u001b[0m\u001b[0;34m\u001b[0m\u001b[0m\n\u001b[0;32m--> 758\u001b[0;31m             \u001b[0;32mwhile\u001b[0m \u001b[0mself\u001b[0m\u001b[0;34m.\u001b[0m\u001b[0mdispatch_one_batch\u001b[0m\u001b[0;34m(\u001b[0m\u001b[0miterator\u001b[0m\u001b[0;34m)\u001b[0m\u001b[0;34m:\u001b[0m\u001b[0;34m\u001b[0m\u001b[0m\n\u001b[0m\u001b[1;32m    759\u001b[0m                 \u001b[0mself\u001b[0m\u001b[0;34m.\u001b[0m\u001b[0m_iterating\u001b[0m \u001b[0;34m=\u001b[0m \u001b[0;32mTrue\u001b[0m\u001b[0;34m\u001b[0m\u001b[0m\n\u001b[1;32m    760\u001b[0m             \u001b[0;32melse\u001b[0m\u001b[0;34m:\u001b[0m\u001b[0;34m\u001b[0m\u001b[0m\n",
      "\u001b[0;32m/Users/carlmartin/anaconda/lib/python3.5/site-packages/sklearn/externals/joblib/parallel.py\u001b[0m in \u001b[0;36mdispatch_one_batch\u001b[0;34m(self, iterator)\u001b[0m\n\u001b[1;32m    606\u001b[0m                 \u001b[0;32mreturn\u001b[0m \u001b[0;32mFalse\u001b[0m\u001b[0;34m\u001b[0m\u001b[0m\n\u001b[1;32m    607\u001b[0m             \u001b[0;32melse\u001b[0m\u001b[0;34m:\u001b[0m\u001b[0;34m\u001b[0m\u001b[0m\n\u001b[0;32m--> 608\u001b[0;31m                 \u001b[0mself\u001b[0m\u001b[0;34m.\u001b[0m\u001b[0m_dispatch\u001b[0m\u001b[0;34m(\u001b[0m\u001b[0mtasks\u001b[0m\u001b[0;34m)\u001b[0m\u001b[0;34m\u001b[0m\u001b[0m\n\u001b[0m\u001b[1;32m    609\u001b[0m                 \u001b[0;32mreturn\u001b[0m \u001b[0;32mTrue\u001b[0m\u001b[0;34m\u001b[0m\u001b[0m\n\u001b[1;32m    610\u001b[0m \u001b[0;34m\u001b[0m\u001b[0m\n",
      "\u001b[0;32m/Users/carlmartin/anaconda/lib/python3.5/site-packages/sklearn/externals/joblib/parallel.py\u001b[0m in \u001b[0;36m_dispatch\u001b[0;34m(self, batch)\u001b[0m\n\u001b[1;32m    569\u001b[0m         \u001b[0mdispatch_timestamp\u001b[0m \u001b[0;34m=\u001b[0m \u001b[0mtime\u001b[0m\u001b[0;34m.\u001b[0m\u001b[0mtime\u001b[0m\u001b[0;34m(\u001b[0m\u001b[0;34m)\u001b[0m\u001b[0;34m\u001b[0m\u001b[0m\n\u001b[1;32m    570\u001b[0m         \u001b[0mcb\u001b[0m \u001b[0;34m=\u001b[0m \u001b[0mBatchCompletionCallBack\u001b[0m\u001b[0;34m(\u001b[0m\u001b[0mdispatch_timestamp\u001b[0m\u001b[0;34m,\u001b[0m \u001b[0mlen\u001b[0m\u001b[0;34m(\u001b[0m\u001b[0mbatch\u001b[0m\u001b[0;34m)\u001b[0m\u001b[0;34m,\u001b[0m \u001b[0mself\u001b[0m\u001b[0;34m)\u001b[0m\u001b[0;34m\u001b[0m\u001b[0m\n\u001b[0;32m--> 571\u001b[0;31m         \u001b[0mjob\u001b[0m \u001b[0;34m=\u001b[0m \u001b[0mself\u001b[0m\u001b[0;34m.\u001b[0m\u001b[0m_backend\u001b[0m\u001b[0;34m.\u001b[0m\u001b[0mapply_async\u001b[0m\u001b[0;34m(\u001b[0m\u001b[0mbatch\u001b[0m\u001b[0;34m,\u001b[0m \u001b[0mcallback\u001b[0m\u001b[0;34m=\u001b[0m\u001b[0mcb\u001b[0m\u001b[0;34m)\u001b[0m\u001b[0;34m\u001b[0m\u001b[0m\n\u001b[0m\u001b[1;32m    572\u001b[0m         \u001b[0mself\u001b[0m\u001b[0;34m.\u001b[0m\u001b[0m_jobs\u001b[0m\u001b[0;34m.\u001b[0m\u001b[0mappend\u001b[0m\u001b[0;34m(\u001b[0m\u001b[0mjob\u001b[0m\u001b[0;34m)\u001b[0m\u001b[0;34m\u001b[0m\u001b[0m\n\u001b[1;32m    573\u001b[0m \u001b[0;34m\u001b[0m\u001b[0m\n",
      "\u001b[0;32m/Users/carlmartin/anaconda/lib/python3.5/site-packages/sklearn/externals/joblib/_parallel_backends.py\u001b[0m in \u001b[0;36mapply_async\u001b[0;34m(self, func, callback)\u001b[0m\n\u001b[1;32m    107\u001b[0m     \u001b[0;32mdef\u001b[0m \u001b[0mapply_async\u001b[0m\u001b[0;34m(\u001b[0m\u001b[0mself\u001b[0m\u001b[0;34m,\u001b[0m \u001b[0mfunc\u001b[0m\u001b[0;34m,\u001b[0m \u001b[0mcallback\u001b[0m\u001b[0;34m=\u001b[0m\u001b[0;32mNone\u001b[0m\u001b[0;34m)\u001b[0m\u001b[0;34m:\u001b[0m\u001b[0;34m\u001b[0m\u001b[0m\n\u001b[1;32m    108\u001b[0m         \u001b[0;34m\"\"\"Schedule a func to be run\"\"\"\u001b[0m\u001b[0;34m\u001b[0m\u001b[0m\n\u001b[0;32m--> 109\u001b[0;31m         \u001b[0mresult\u001b[0m \u001b[0;34m=\u001b[0m \u001b[0mImmediateResult\u001b[0m\u001b[0;34m(\u001b[0m\u001b[0mfunc\u001b[0m\u001b[0;34m)\u001b[0m\u001b[0;34m\u001b[0m\u001b[0m\n\u001b[0m\u001b[1;32m    110\u001b[0m         \u001b[0;32mif\u001b[0m \u001b[0mcallback\u001b[0m\u001b[0;34m:\u001b[0m\u001b[0;34m\u001b[0m\u001b[0m\n\u001b[1;32m    111\u001b[0m             \u001b[0mcallback\u001b[0m\u001b[0;34m(\u001b[0m\u001b[0mresult\u001b[0m\u001b[0;34m)\u001b[0m\u001b[0;34m\u001b[0m\u001b[0m\n",
      "\u001b[0;32m/Users/carlmartin/anaconda/lib/python3.5/site-packages/sklearn/externals/joblib/_parallel_backends.py\u001b[0m in \u001b[0;36m__init__\u001b[0;34m(self, batch)\u001b[0m\n\u001b[1;32m    320\u001b[0m         \u001b[0;31m# Don't delay the application, to avoid keeping the input\u001b[0m\u001b[0;34m\u001b[0m\u001b[0;34m\u001b[0m\u001b[0m\n\u001b[1;32m    321\u001b[0m         \u001b[0;31m# arguments in memory\u001b[0m\u001b[0;34m\u001b[0m\u001b[0;34m\u001b[0m\u001b[0m\n\u001b[0;32m--> 322\u001b[0;31m         \u001b[0mself\u001b[0m\u001b[0;34m.\u001b[0m\u001b[0mresults\u001b[0m \u001b[0;34m=\u001b[0m \u001b[0mbatch\u001b[0m\u001b[0;34m(\u001b[0m\u001b[0;34m)\u001b[0m\u001b[0;34m\u001b[0m\u001b[0m\n\u001b[0m\u001b[1;32m    323\u001b[0m \u001b[0;34m\u001b[0m\u001b[0m\n\u001b[1;32m    324\u001b[0m     \u001b[0;32mdef\u001b[0m \u001b[0mget\u001b[0m\u001b[0;34m(\u001b[0m\u001b[0mself\u001b[0m\u001b[0;34m)\u001b[0m\u001b[0;34m:\u001b[0m\u001b[0;34m\u001b[0m\u001b[0m\n",
      "\u001b[0;32m/Users/carlmartin/anaconda/lib/python3.5/site-packages/sklearn/externals/joblib/parallel.py\u001b[0m in \u001b[0;36m__call__\u001b[0;34m(self)\u001b[0m\n\u001b[1;32m    129\u001b[0m \u001b[0;34m\u001b[0m\u001b[0m\n\u001b[1;32m    130\u001b[0m     \u001b[0;32mdef\u001b[0m \u001b[0m__call__\u001b[0m\u001b[0;34m(\u001b[0m\u001b[0mself\u001b[0m\u001b[0;34m)\u001b[0m\u001b[0;34m:\u001b[0m\u001b[0;34m\u001b[0m\u001b[0m\n\u001b[0;32m--> 131\u001b[0;31m         \u001b[0;32mreturn\u001b[0m \u001b[0;34m[\u001b[0m\u001b[0mfunc\u001b[0m\u001b[0;34m(\u001b[0m\u001b[0;34m*\u001b[0m\u001b[0margs\u001b[0m\u001b[0;34m,\u001b[0m \u001b[0;34m**\u001b[0m\u001b[0mkwargs\u001b[0m\u001b[0;34m)\u001b[0m \u001b[0;32mfor\u001b[0m \u001b[0mfunc\u001b[0m\u001b[0;34m,\u001b[0m \u001b[0margs\u001b[0m\u001b[0;34m,\u001b[0m \u001b[0mkwargs\u001b[0m \u001b[0;32min\u001b[0m \u001b[0mself\u001b[0m\u001b[0;34m.\u001b[0m\u001b[0mitems\u001b[0m\u001b[0;34m]\u001b[0m\u001b[0;34m\u001b[0m\u001b[0m\n\u001b[0m\u001b[1;32m    132\u001b[0m \u001b[0;34m\u001b[0m\u001b[0m\n\u001b[1;32m    133\u001b[0m     \u001b[0;32mdef\u001b[0m \u001b[0m__len__\u001b[0m\u001b[0;34m(\u001b[0m\u001b[0mself\u001b[0m\u001b[0;34m)\u001b[0m\u001b[0;34m:\u001b[0m\u001b[0;34m\u001b[0m\u001b[0m\n",
      "\u001b[0;32m/Users/carlmartin/anaconda/lib/python3.5/site-packages/sklearn/externals/joblib/parallel.py\u001b[0m in \u001b[0;36m<listcomp>\u001b[0;34m(.0)\u001b[0m\n\u001b[1;32m    129\u001b[0m \u001b[0;34m\u001b[0m\u001b[0m\n\u001b[1;32m    130\u001b[0m     \u001b[0;32mdef\u001b[0m \u001b[0m__call__\u001b[0m\u001b[0;34m(\u001b[0m\u001b[0mself\u001b[0m\u001b[0;34m)\u001b[0m\u001b[0;34m:\u001b[0m\u001b[0;34m\u001b[0m\u001b[0m\n\u001b[0;32m--> 131\u001b[0;31m         \u001b[0;32mreturn\u001b[0m \u001b[0;34m[\u001b[0m\u001b[0mfunc\u001b[0m\u001b[0;34m(\u001b[0m\u001b[0;34m*\u001b[0m\u001b[0margs\u001b[0m\u001b[0;34m,\u001b[0m \u001b[0;34m**\u001b[0m\u001b[0mkwargs\u001b[0m\u001b[0;34m)\u001b[0m \u001b[0;32mfor\u001b[0m \u001b[0mfunc\u001b[0m\u001b[0;34m,\u001b[0m \u001b[0margs\u001b[0m\u001b[0;34m,\u001b[0m \u001b[0mkwargs\u001b[0m \u001b[0;32min\u001b[0m \u001b[0mself\u001b[0m\u001b[0;34m.\u001b[0m\u001b[0mitems\u001b[0m\u001b[0;34m]\u001b[0m\u001b[0;34m\u001b[0m\u001b[0m\n\u001b[0m\u001b[1;32m    132\u001b[0m \u001b[0;34m\u001b[0m\u001b[0m\n\u001b[1;32m    133\u001b[0m     \u001b[0;32mdef\u001b[0m \u001b[0m__len__\u001b[0m\u001b[0;34m(\u001b[0m\u001b[0mself\u001b[0m\u001b[0;34m)\u001b[0m\u001b[0;34m:\u001b[0m\u001b[0;34m\u001b[0m\u001b[0m\n",
      "\u001b[0;32m/Users/carlmartin/anaconda/lib/python3.5/site-packages/sklearn/pipeline.py\u001b[0m in \u001b[0;36m_fit_transform_one\u001b[0;34m(transformer, name, weight, X, y, **fit_params)\u001b[0m\n\u001b[1;32m    578\u001b[0m                        **fit_params):\n\u001b[1;32m    579\u001b[0m     \u001b[0;32mif\u001b[0m \u001b[0mhasattr\u001b[0m\u001b[0;34m(\u001b[0m\u001b[0mtransformer\u001b[0m\u001b[0;34m,\u001b[0m \u001b[0;34m'fit_transform'\u001b[0m\u001b[0;34m)\u001b[0m\u001b[0;34m:\u001b[0m\u001b[0;34m\u001b[0m\u001b[0m\n\u001b[0;32m--> 580\u001b[0;31m         \u001b[0mres\u001b[0m \u001b[0;34m=\u001b[0m \u001b[0mtransformer\u001b[0m\u001b[0;34m.\u001b[0m\u001b[0mfit_transform\u001b[0m\u001b[0;34m(\u001b[0m\u001b[0mX\u001b[0m\u001b[0;34m,\u001b[0m \u001b[0my\u001b[0m\u001b[0;34m,\u001b[0m \u001b[0;34m**\u001b[0m\u001b[0mfit_params\u001b[0m\u001b[0;34m)\u001b[0m\u001b[0;34m\u001b[0m\u001b[0m\n\u001b[0m\u001b[1;32m    581\u001b[0m     \u001b[0;32melse\u001b[0m\u001b[0;34m:\u001b[0m\u001b[0;34m\u001b[0m\u001b[0m\n\u001b[1;32m    582\u001b[0m         \u001b[0mres\u001b[0m \u001b[0;34m=\u001b[0m \u001b[0mtransformer\u001b[0m\u001b[0;34m.\u001b[0m\u001b[0mfit\u001b[0m\u001b[0;34m(\u001b[0m\u001b[0mX\u001b[0m\u001b[0;34m,\u001b[0m \u001b[0my\u001b[0m\u001b[0;34m,\u001b[0m \u001b[0;34m**\u001b[0m\u001b[0mfit_params\u001b[0m\u001b[0;34m)\u001b[0m\u001b[0;34m.\u001b[0m\u001b[0mtransform\u001b[0m\u001b[0;34m(\u001b[0m\u001b[0mX\u001b[0m\u001b[0;34m)\u001b[0m\u001b[0;34m\u001b[0m\u001b[0m\n",
      "\u001b[0;32m/Users/carlmartin/anaconda/lib/python3.5/site-packages/sklearn/pipeline.py\u001b[0m in \u001b[0;36mfit_transform\u001b[0;34m(self, X, y, **fit_params)\u001b[0m\n\u001b[1;32m    299\u001b[0m         \"\"\"\n\u001b[1;32m    300\u001b[0m         \u001b[0mlast_step\u001b[0m \u001b[0;34m=\u001b[0m \u001b[0mself\u001b[0m\u001b[0;34m.\u001b[0m\u001b[0m_final_estimator\u001b[0m\u001b[0;34m\u001b[0m\u001b[0m\n\u001b[0;32m--> 301\u001b[0;31m         \u001b[0mXt\u001b[0m\u001b[0;34m,\u001b[0m \u001b[0mfit_params\u001b[0m \u001b[0;34m=\u001b[0m \u001b[0mself\u001b[0m\u001b[0;34m.\u001b[0m\u001b[0m_fit\u001b[0m\u001b[0;34m(\u001b[0m\u001b[0mX\u001b[0m\u001b[0;34m,\u001b[0m \u001b[0my\u001b[0m\u001b[0;34m,\u001b[0m \u001b[0;34m**\u001b[0m\u001b[0mfit_params\u001b[0m\u001b[0;34m)\u001b[0m\u001b[0;34m\u001b[0m\u001b[0m\n\u001b[0m\u001b[1;32m    302\u001b[0m         \u001b[0;32mif\u001b[0m \u001b[0mhasattr\u001b[0m\u001b[0;34m(\u001b[0m\u001b[0mlast_step\u001b[0m\u001b[0;34m,\u001b[0m \u001b[0;34m'fit_transform'\u001b[0m\u001b[0;34m)\u001b[0m\u001b[0;34m:\u001b[0m\u001b[0;34m\u001b[0m\u001b[0m\n\u001b[1;32m    303\u001b[0m             \u001b[0;32mreturn\u001b[0m \u001b[0mlast_step\u001b[0m\u001b[0;34m.\u001b[0m\u001b[0mfit_transform\u001b[0m\u001b[0;34m(\u001b[0m\u001b[0mXt\u001b[0m\u001b[0;34m,\u001b[0m \u001b[0my\u001b[0m\u001b[0;34m,\u001b[0m \u001b[0;34m**\u001b[0m\u001b[0mfit_params\u001b[0m\u001b[0;34m)\u001b[0m\u001b[0;34m\u001b[0m\u001b[0m\n",
      "\u001b[0;32m/Users/carlmartin/anaconda/lib/python3.5/site-packages/sklearn/pipeline.py\u001b[0m in \u001b[0;36m_fit\u001b[0;34m(self, X, y, **fit_params)\u001b[0m\n\u001b[1;32m    232\u001b[0m                 \u001b[0;32mpass\u001b[0m\u001b[0;34m\u001b[0m\u001b[0m\n\u001b[1;32m    233\u001b[0m             \u001b[0;32melif\u001b[0m \u001b[0mhasattr\u001b[0m\u001b[0;34m(\u001b[0m\u001b[0mtransform\u001b[0m\u001b[0;34m,\u001b[0m \u001b[0;34m\"fit_transform\"\u001b[0m\u001b[0;34m)\u001b[0m\u001b[0;34m:\u001b[0m\u001b[0;34m\u001b[0m\u001b[0m\n\u001b[0;32m--> 234\u001b[0;31m                 \u001b[0mXt\u001b[0m \u001b[0;34m=\u001b[0m \u001b[0mtransform\u001b[0m\u001b[0;34m.\u001b[0m\u001b[0mfit_transform\u001b[0m\u001b[0;34m(\u001b[0m\u001b[0mXt\u001b[0m\u001b[0;34m,\u001b[0m \u001b[0my\u001b[0m\u001b[0;34m,\u001b[0m \u001b[0;34m**\u001b[0m\u001b[0mfit_params_steps\u001b[0m\u001b[0;34m[\u001b[0m\u001b[0mname\u001b[0m\u001b[0;34m]\u001b[0m\u001b[0;34m)\u001b[0m\u001b[0;34m\u001b[0m\u001b[0m\n\u001b[0m\u001b[1;32m    235\u001b[0m             \u001b[0;32melse\u001b[0m\u001b[0;34m:\u001b[0m\u001b[0;34m\u001b[0m\u001b[0m\n\u001b[1;32m    236\u001b[0m                 \u001b[0mXt\u001b[0m \u001b[0;34m=\u001b[0m \u001b[0mtransform\u001b[0m\u001b[0;34m.\u001b[0m\u001b[0mfit\u001b[0m\u001b[0;34m(\u001b[0m\u001b[0mXt\u001b[0m\u001b[0;34m,\u001b[0m \u001b[0my\u001b[0m\u001b[0;34m,\u001b[0m \u001b[0;34m**\u001b[0m\u001b[0mfit_params_steps\u001b[0m\u001b[0;34m[\u001b[0m\u001b[0mname\u001b[0m\u001b[0;34m]\u001b[0m\u001b[0;34m)\u001b[0m\u001b[0;31m \u001b[0m\u001b[0;31m\\\u001b[0m\u001b[0;34m\u001b[0m\u001b[0m\n",
      "\u001b[0;32m/Users/carlmartin/anaconda/lib/python3.5/site-packages/sklearn/base.py\u001b[0m in \u001b[0;36mfit_transform\u001b[0;34m(self, X, y, **fit_params)\u001b[0m\n\u001b[1;32m    492\u001b[0m         \u001b[0;32mif\u001b[0m \u001b[0my\u001b[0m \u001b[0;32mis\u001b[0m \u001b[0;32mNone\u001b[0m\u001b[0;34m:\u001b[0m\u001b[0;34m\u001b[0m\u001b[0m\n\u001b[1;32m    493\u001b[0m             \u001b[0;31m# fit method of arity 1 (unsupervised transformation)\u001b[0m\u001b[0;34m\u001b[0m\u001b[0;34m\u001b[0m\u001b[0m\n\u001b[0;32m--> 494\u001b[0;31m             \u001b[0;32mreturn\u001b[0m \u001b[0mself\u001b[0m\u001b[0;34m.\u001b[0m\u001b[0mfit\u001b[0m\u001b[0;34m(\u001b[0m\u001b[0mX\u001b[0m\u001b[0;34m,\u001b[0m \u001b[0;34m**\u001b[0m\u001b[0mfit_params\u001b[0m\u001b[0;34m)\u001b[0m\u001b[0;34m.\u001b[0m\u001b[0mtransform\u001b[0m\u001b[0;34m(\u001b[0m\u001b[0mX\u001b[0m\u001b[0;34m)\u001b[0m\u001b[0;34m\u001b[0m\u001b[0m\n\u001b[0m\u001b[1;32m    495\u001b[0m         \u001b[0;32melse\u001b[0m\u001b[0;34m:\u001b[0m\u001b[0;34m\u001b[0m\u001b[0m\n\u001b[1;32m    496\u001b[0m             \u001b[0;31m# fit method of arity 2 (supervised transformation)\u001b[0m\u001b[0;34m\u001b[0m\u001b[0;34m\u001b[0m\u001b[0m\n",
      "\u001b[0;32m<ipython-input-28-f974989a8666>\u001b[0m in \u001b[0;36mtransform\u001b[0;34m(self, X)\u001b[0m\n\u001b[1;32m     10\u001b[0m     \u001b[0;32mdef\u001b[0m \u001b[0mtransform\u001b[0m\u001b[0;34m(\u001b[0m\u001b[0mself\u001b[0m\u001b[0;34m,\u001b[0m \u001b[0mX\u001b[0m\u001b[0;34m)\u001b[0m\u001b[0;34m:\u001b[0m\u001b[0;34m\u001b[0m\u001b[0m\n\u001b[1;32m     11\u001b[0m         \u001b[0mX\u001b[0m \u001b[0;34m=\u001b[0m \u001b[0mX\u001b[0m\u001b[0;34m.\u001b[0m\u001b[0mcopy\u001b[0m\u001b[0;34m(\u001b[0m\u001b[0;34m)\u001b[0m\u001b[0;34m\u001b[0m\u001b[0m\n\u001b[0;32m---> 12\u001b[0;31m         \u001b[0mrolling\u001b[0m \u001b[0;34m=\u001b[0m \u001b[0mX\u001b[0m\u001b[0;34m[\u001b[0m\u001b[0;34m'adj_close'\u001b[0m\u001b[0;34m]\u001b[0m\u001b[0;34m.\u001b[0m\u001b[0mrolling\u001b[0m\u001b[0;34m(\u001b[0m\u001b[0mwindow\u001b[0m\u001b[0;34m=\u001b[0m\u001b[0mself\u001b[0m\u001b[0;34m.\u001b[0m\u001b[0mt1\u001b[0m\u001b[0;34m)\u001b[0m\u001b[0;34m\u001b[0m\u001b[0m\n\u001b[0m\u001b[1;32m     13\u001b[0m         \u001b[0mX\u001b[0m\u001b[0;34m[\u001b[0m\u001b[0;34m'K'\u001b[0m\u001b[0;34m]\u001b[0m \u001b[0;34m=\u001b[0m \u001b[0;34m(\u001b[0m\u001b[0mX\u001b[0m\u001b[0;34m[\u001b[0m\u001b[0;34m'adj_close'\u001b[0m\u001b[0;34m]\u001b[0m\u001b[0;34m-\u001b[0m\u001b[0mrolling\u001b[0m\u001b[0;34m.\u001b[0m\u001b[0mmin\u001b[0m\u001b[0;34m(\u001b[0m\u001b[0;34m)\u001b[0m\u001b[0;34m)\u001b[0m\u001b[0;34m/\u001b[0m\u001b[0;34m(\u001b[0m\u001b[0mrolling\u001b[0m\u001b[0;34m.\u001b[0m\u001b[0mmax\u001b[0m\u001b[0;34m(\u001b[0m\u001b[0;34m)\u001b[0m\u001b[0;34m-\u001b[0m\u001b[0mrolling\u001b[0m\u001b[0;34m.\u001b[0m\u001b[0mmin\u001b[0m\u001b[0;34m(\u001b[0m\u001b[0;34m)\u001b[0m\u001b[0;34m)\u001b[0m\u001b[0;34m*\u001b[0m\u001b[0;36m100\u001b[0m\u001b[0;34m\u001b[0m\u001b[0m\n\u001b[1;32m     14\u001b[0m         \u001b[0mX\u001b[0m\u001b[0;34m[\u001b[0m\u001b[0;34m'K'\u001b[0m\u001b[0;34m]\u001b[0m\u001b[0;34m.\u001b[0m\u001b[0mloc\u001b[0m\u001b[0;34m[\u001b[0m\u001b[0;34m:\u001b[0m\u001b[0mself\u001b[0m\u001b[0;34m.\u001b[0m\u001b[0mt1\u001b[0m \u001b[0;34m-\u001b[0m \u001b[0;36m1\u001b[0m\u001b[0;34m]\u001b[0m \u001b[0;34m=\u001b[0m \u001b[0;36m50\u001b[0m \u001b[0;31m# Imputing missing values\u001b[0m\u001b[0;34m\u001b[0m\u001b[0m\n",
      "\u001b[0;32m/Users/carlmartin/anaconda/lib/python3.5/site-packages/pandas/core/generic.py\u001b[0m in \u001b[0;36m__getattr__\u001b[0;34m(self, name)\u001b[0m\n\u001b[1;32m   2358\u001b[0m                 \u001b[0;32mreturn\u001b[0m \u001b[0mself\u001b[0m\u001b[0;34m[\u001b[0m\u001b[0mname\u001b[0m\u001b[0;34m]\u001b[0m\u001b[0;34m\u001b[0m\u001b[0m\n\u001b[1;32m   2359\u001b[0m             raise AttributeError(\"'%s' object has no attribute '%s'\" %\n\u001b[0;32m-> 2360\u001b[0;31m                                  (type(self).__name__, name))\n\u001b[0m\u001b[1;32m   2361\u001b[0m \u001b[0;34m\u001b[0m\u001b[0m\n\u001b[1;32m   2362\u001b[0m     \u001b[0;32mdef\u001b[0m \u001b[0m__setattr__\u001b[0m\u001b[0;34m(\u001b[0m\u001b[0mself\u001b[0m\u001b[0;34m,\u001b[0m \u001b[0mname\u001b[0m\u001b[0;34m,\u001b[0m \u001b[0mvalue\u001b[0m\u001b[0;34m)\u001b[0m\u001b[0;34m:\u001b[0m\u001b[0;34m\u001b[0m\u001b[0m\n",
      "\u001b[0;31mAttributeError\u001b[0m: 'Series' object has no attribute 'rolling'"
     ]
    }
   ],
   "source": [
    "from pandas.tools.plotting import scatter_matrix\n",
    "\n",
    "features = ['K', 'Momentum', 'ROC', 'Williams R', 'ADL', 'Disparity', 'PPO', 'CCI', 'RSI']\n",
    "X_transformed = pd.DataFrame(pipeline.fit_transform(X_train), columns=features)\n",
    "X_transformed['target'] = y_train\n",
    "\n",
    "color_wheel = {1: \"#ffff00\", \n",
    "               3: \"#429300\"}\n",
    "\n",
    "colors = X_transformed[\"target\"].map(lambda x: color_wheel.get(x + 2))\n",
    "scatter_matrix(X_transformed[features], color=colors, alpha=0.2, figsize=(12,12), diagonal='kde', c=None)"
   ]
  },
  {
   "cell_type": "code",
   "execution_count": null,
   "metadata": {
    "collapsed": false
   },
   "outputs": [],
   "source": [
    "pca = PCA(2)\n",
    "result = pd.DataFrame(pca.fit_transform(X_transformed[['PPO', 'CCI', 'RSI']]))\n",
    "print(\"Explained Variance: {}\".format(pca.components_))\n",
    "\n",
    "result['label'] = y_train\n",
    "ax = result[result['label'] == 1].plot(kind='scatter', x=0, y=1, color='DarkGreen', label='Up', alpha=0.2)\n",
    "result[result['label'] == -1].plot(kind='scatter', x=0, y=1, color='Yellow', label='Down', ax=ax, alpha=0.6)"
   ]
  },
  {
   "cell_type": "markdown",
   "metadata": {},
   "source": [
    "## Baseline Classifier\n",
    "This predictor serves as a benchmark to compare other algorithms against. New algorithms have to perform better than this predictor."
   ]
  },
  {
   "cell_type": "code",
   "execution_count": null,
   "metadata": {
    "collapsed": false
   },
   "outputs": [],
   "source": [
    "from sklearn.model_selection import GridSearchCV, RandomizedSearchCV\n",
    "from sklearn import preprocessing\n",
    "from sklearn.svm import SVC\n",
    "from sklearn.linear_model import SGDClassifier\n",
    "from sklearn.neighbors import KNeighborsClassifier\n",
    "\n",
    "# Classification\n",
    "pipeline = Pipeline([\n",
    "        ('features', FeatureUnion([\n",
    "            ('daily_ret', Pipeline([\n",
    "                ('windowing', Windowing(t=4, feature='daily_ret')),\n",
    "                ('scale', preprocessing.RobustScaler())\n",
    "            ]))\n",
    "        ])),\n",
    "        ('estimator', KNeighborsClassifier())\n",
    "    ])"
   ]
  },
  {
   "cell_type": "code",
   "execution_count": 2,
   "metadata": {
    "collapsed": false,
    "scrolled": true
   },
   "outputs": [
    {
     "ename": "NameError",
     "evalue": "name 'np' is not defined",
     "output_type": "error",
     "traceback": [
      "\u001b[0;31m---------------------------------------------------------------------------\u001b[0m",
      "\u001b[0;31mNameError\u001b[0m                                 Traceback (most recent call last)",
      "\u001b[0;32m<ipython-input-2-f08c9ddf7812>\u001b[0m in \u001b[0;36m<module>\u001b[0;34m()\u001b[0m\n\u001b[1;32m      1\u001b[0m params = {\n\u001b[0;32m----> 2\u001b[0;31m     \u001b[0;34m'estimator__n_neighbors'\u001b[0m\u001b[0;34m:\u001b[0m \u001b[0mnp\u001b[0m\u001b[0;34m.\u001b[0m\u001b[0marange\u001b[0m\u001b[0;34m(\u001b[0m\u001b[0;36m1\u001b[0m\u001b[0;34m,\u001b[0m\u001b[0;36m10\u001b[0m\u001b[0;34m)\u001b[0m\u001b[0;34m,\u001b[0m\u001b[0;34m\u001b[0m\u001b[0m\n\u001b[0m\u001b[1;32m      3\u001b[0m     \u001b[0;34m'features__daily_ret__windowing__t'\u001b[0m\u001b[0;34m:\u001b[0m \u001b[0mnp\u001b[0m\u001b[0;34m.\u001b[0m\u001b[0marange\u001b[0m\u001b[0;34m(\u001b[0m\u001b[0;36m4\u001b[0m\u001b[0;34m,\u001b[0m\u001b[0;36m20\u001b[0m\u001b[0;34m,\u001b[0m\u001b[0;36m2\u001b[0m\u001b[0;34m)\u001b[0m\u001b[0;34m\u001b[0m\u001b[0m\n\u001b[1;32m      4\u001b[0m }\n\u001b[1;32m      5\u001b[0m \u001b[0;34m\u001b[0m\u001b[0m\n",
      "\u001b[0;31mNameError\u001b[0m: name 'np' is not defined"
     ]
    }
   ],
   "source": [
    "params = {\n",
    "    'estimator__n_neighbors': np.arange(1,10),\n",
    "    'features__daily_ret__windowing__t': np.arange(4,20,2)\n",
    "}\n",
    "\n",
    "\n",
    "# grid_search = RandomizedSearchCV(pipeline, param_distributions=params, n_jobs=8, n_iter=16)\n",
    "grid_search = GridSearchCV(pipeline, param_grid=params, n_jobs=12)\n",
    "grid_search.fit(X_train, y_train)\n",
    "\n"
   ]
  },
  {
   "cell_type": "code",
   "execution_count": null,
   "metadata": {
    "collapsed": false
   },
   "outputs": [],
   "source": [
    "print(grid_search.best_score_)\n",
    "display(grid_search.best_params_)\n",
    "class_names = ['Down','Up']\n",
    "classifier = grid_search.best_estimator_\n",
    "y_pred = classifier.predict(X_test)"
   ]
  },
  {
   "cell_type": "code",
   "execution_count": null,
   "metadata": {
    "collapsed": false
   },
   "outputs": [],
   "source": [
    "import itertools\n",
    "import matplotlib.pyplot as plt\n",
    "from sklearn.metrics import confusion_matrix\n",
    "\n",
    "def plot_confusion_matrix(cm, classes,\n",
    "                          normalize=False,\n",
    "                          title='Confusion matrix',\n",
    "                          cmap=plt.cm.Blues):\n",
    "    \"\"\"\n",
    "    This function prints and plots the confusion matrix.\n",
    "    Normalization can be applied by setting `normalize=True`.\n",
    "    \"\"\"\n",
    "    plt.imshow(cm, interpolation='nearest', cmap=cmap)\n",
    "    plt.title(title)\n",
    "    plt.colorbar()\n",
    "    tick_marks = np.arange(len(classes))\n",
    "    plt.xticks(tick_marks, classes, rotation=45)\n",
    "    plt.yticks(tick_marks, classes)\n",
    "\n",
    "    if normalize:\n",
    "        cm = cm.astype('float') / cm.sum(axis=1)[:, np.newaxis]\n",
    "        print(\"Normalized confusion matrix\")\n",
    "    else:\n",
    "        print('Confusion matrix, without normalization')\n",
    "\n",
    "    print(cm)\n",
    "\n",
    "    thresh = cm.max() / 2.\n",
    "    for i, j in itertools.product(range(cm.shape[0]), range(cm.shape[1])):\n",
    "        plt.text(j, i, cm[i, j],\n",
    "                 horizontalalignment=\"center\",\n",
    "                 color=\"white\" if cm[i, j] > thresh else \"black\")\n",
    "\n",
    "    plt.tight_layout()\n",
    "    plt.ylabel('True label')\n",
    "    plt.xlabel('Predicted label')\n",
    "\n",
    "# Compute confusion matrix\n",
    "cnf_matrix = confusion_matrix(y_test, y_pred)\n",
    "np.set_printoptions(precision=2)\n",
    "\n",
    "# Plot non-normalized confusion matrix\n",
    "plt.figure()\n",
    "plot_confusion_matrix(cnf_matrix, classes=class_names,\n",
    "                      title='Confusion matrix, without normalization')\n",
    "\n",
    "# Plot normalized confusion matrix\n",
    "plt.figure()\n",
    "plot_confusion_matrix(cnf_matrix, classes=class_names, normalize=True,\n",
    "                      title='Normalized confusion matrix')\n",
    "\n",
    "plt.show()"
   ]
  },
  {
   "cell_type": "markdown",
   "metadata": {},
   "source": [
    "The benchmark predict shows adequate accuracy. Cross validation for other stocks is necessary to confirm the accuracy of this predictor."
   ]
  },
  {
   "cell_type": "markdown",
   "metadata": {},
   "source": [
    "## Test Suite\n",
    "This test suite is used to backtest the model using a random selection of 200 stocks. Out of these 200 stocks, 100 stocks will be from the S&P 500."
   ]
  },
  {
   "cell_type": "code",
   "execution_count": null,
   "metadata": {
    "collapsed": false,
    "scrolled": false
   },
   "outputs": [],
   "source": [
    "import random\n",
    "from joblib import Parallel, delayed\n",
    "from sklearn.metrics import mean_squared_error\n",
    "from sklearn.metrics import r2_score\n",
    "\n",
    "# CHANGE Model Here\n",
    "model = svm.SVR()\n",
    "# random.seed(0)\n",
    "indicies = random.sample(range(0, len(sp500)), 100)\n",
    "\n",
    "def metrics(index):\n",
    "    ticker = sp500.iloc[index][0]\n",
    "    \n",
    "    try:\n",
    "        stock = Stock(ticker)\n",
    "        features = FeatureEngineering(stock)\n",
    "\n",
    "        model.fit(features.X_train, features.y_train)\n",
    "        y_pred = model.predict(features.X_test)\n",
    "\n",
    "        # Testing Metrics for regression\n",
    "        return [ticker, mean_squared_error(features.y_test, y_pred), r2_score(features.y_test, y_pred)]\n",
    "    except:\n",
    "        return [ticker, None, None]\n",
    "    \n",
    "\n",
    "results = pd.DataFrame(Parallel(n_jobs=20)(delayed(metrics)(index) for index in indicies), columns=['ticker','MSE', 'R2'])"
   ]
  },
  {
   "cell_type": "code",
   "execution_count": null,
   "metadata": {
    "collapsed": false
   },
   "outputs": [],
   "source": [
    "results['R2'].hist(range=[-1,1])"
   ]
  },
  {
   "cell_type": "code",
   "execution_count": null,
   "metadata": {
    "collapsed": false
   },
   "outputs": [],
   "source": [
    "results['MSE'].hist(range=[0,0.001])"
   ]
  },
  {
   "cell_type": "code",
   "execution_count": null,
   "metadata": {
    "collapsed": true
   },
   "outputs": [],
   "source": []
  },
  {
   "cell_type": "code",
   "execution_count": null,
   "metadata": {
    "collapsed": false
   },
   "outputs": [],
   "source": [
    "\"\"\"pipeline = Pipeline([\n",
    "        ('features', Pipeline([\n",
    "            ('K', K()),\n",
    "            ('D', D()),\n",
    "            ('Slow_D', Slow_D()),\n",
    "            ('momentum', Momentum()),\n",
    "            ('ROC', ROC()),\n",
    "            ('williams_r', Williams_R()),\n",
    "            ('ADL', ADL()),\n",
    "            ('disparity_5', Disparity(5)),\n",
    "            ('disparity_10', Disparity(10)),\n",
    "            ('PPO', PPO()),\n",
    "            ('CCI', CCI()),\n",
    "            ('RSI', RSI()),\n",
    "            ('Windowing', Windowing())\n",
    "        ])),\n",
    "        ('column_deletion', ColumnDeletion(['adj_low', 'adj_close', 'adj_volume', 'adj_high'])),\n",
    "        # TODO: Add feature scaling\n",
    "        ('estimator', svm.SVC())\n",
    "    ])\"\"\"\n",
    "# grid_search = GridSearchCV(pipeline, param_grid={})\n",
    "# grid_search.fit(X_train, y_train)\n",
    "# grid_search.best_score_"
   ]
  },
  {
   "cell_type": "code",
   "execution_count": null,
   "metadata": {
    "collapsed": false,
    "scrolled": true
   },
   "outputs": [],
   "source": [
    "validation = pd.DataFrame(y_pred)\n",
    "validation['true'] = pipeline.transform(X_test)\n",
    "validation.plot(kind='scatter',x=0, y='true')"
   ]
  }
 ],
 "metadata": {
  "anaconda-cloud": {},
  "kernelspec": {
   "display_name": "Python [conda root]",
   "language": "python",
   "name": "conda-root-py"
  },
  "language_info": {
   "codemirror_mode": {
    "name": "ipython",
    "version": 3
   },
   "file_extension": ".py",
   "mimetype": "text/x-python",
   "name": "python",
   "nbconvert_exporter": "python",
   "pygments_lexer": "ipython3",
   "version": "3.5.2"
  }
 },
 "nbformat": 4,
 "nbformat_minor": 0
}
